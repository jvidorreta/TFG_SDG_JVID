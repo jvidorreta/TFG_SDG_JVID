{
  "nbformat": 4,
  "nbformat_minor": 0,
  "metadata": {
    "colab": {
      "provenance": [],
      "mount_file_id": "1IHN9obw-BkVM4B1XeCtFt_uCnsYbDhkI",
      "authorship_tag": "ABX9TyOqaaRHetQ7zJYwzfSTNozQ",
      "include_colab_link": true
    },
    "kernelspec": {
      "name": "python3",
      "display_name": "Python 3"
    },
    "language_info": {
      "name": "python"
    }
  },
  "cells": [
    {
      "cell_type": "markdown",
      "metadata": {
        "id": "view-in-github",
        "colab_type": "text"
      },
      "source": [
        "<a href=\"https://colab.research.google.com/github/jvidorreta/TFG_SDG_JVID/blob/dev/TFG_SDG_JVID.ipynb\" target=\"_parent\"><img src=\"https://colab.research.google.com/assets/colab-badge.svg\" alt=\"Open In Colab\"/></a>"
      ]
    },
    {
      "cell_type": "code",
      "execution_count": 2,
      "metadata": {
        "id": "07I3PTxJB6vO"
      },
      "outputs": [],
      "source": [
        "import pandas as pd\n",
        "import numpy as np\n",
        "import matplotlib.pyplot as plt\n",
        "\n",
        "\n",
        "file_path = '/content/drive/MyDrive/Colab Notebooks/BBDD-Local.xlsx'\n",
        "\n",
        "df = pd.read_excel(file_path,sheet_name='C_BBDD')"
      ]
    },
    {
      "cell_type": "code",
      "source": [
        "df.info() #muestra información sobre el tipo de datos de las columnas, el número de filas y cuántos valores nulos hay en el DataFrame."
      ],
      "metadata": {
        "colab": {
          "base_uri": "https://localhost:8080/"
        },
        "id": "0Z6A8-IfOKDR",
        "outputId": "1a8e8e84-79eb-4f51-adbc-691093627629"
      },
      "execution_count": null,
      "outputs": [
        {
          "output_type": "stream",
          "name": "stdout",
          "text": [
            "<class 'pandas.core.frame.DataFrame'>\n",
            "RangeIndex: 16041 entries, 0 to 16040\n",
            "Data columns (total 10 columns):\n",
            " #   Column                    Non-Null Count  Dtype         \n",
            "---  ------                    --------------  -----         \n",
            " 0   ID                        16041 non-null  int64         \n",
            " 1   Tipo                      16041 non-null  object        \n",
            " 2   Categoría                 1147 non-null   object        \n",
            " 3   Categoría.1               7555 non-null   object        \n",
            " 4   Categoría.2               3392 non-null   object        \n",
            " 5   Categoría Final           16041 non-null  object        \n",
            " 6   Fecha de creación         16041 non-null  datetime64[ns]\n",
            " 7   Fecha solución propuesta  14606 non-null  datetime64[ns]\n",
            " 8   Subcategoría              7555 non-null   object        \n",
            " 9   Fecha de modificación     16041 non-null  datetime64[ns]\n",
            "dtypes: datetime64[ns](3), int64(1), object(6)\n",
            "memory usage: 1.2+ MB\n"
          ]
        }
      ]
    },
    {
      "cell_type": "markdown",
      "source": [
        "# Variables \n",
        "**ID:** Número de usuario que realiza la petición\n",
        "\n",
        "**Tipo:** Sección a la que está relacionada la petición\n",
        "\n",
        "**Categoría:** Subcategoría del tipo más concreto\n",
        "\n",
        "**Categoría Final:** Aquí hemos agrupado en una única columna las 3 columnas de Categoría y la de tipo ya que solo habrá un único valor en estas 4 columnas, esta columna será la que se utilice para el analisis.\n",
        "\n",
        "**Fecha de creación:** Fecha y hora en la cual se crea la petición.\n",
        "\n",
        "**Fecha solución propuesta:** Fecha y hora en la que se estima que se va a resolver la petición.\n",
        "\n",
        "**Subcategoría:** Subcategoría asocida a la que hace la petición.\n",
        "\n",
        "**Fecha de modificación:** Fecha y hora en la cual se resuelve la petición.\n",
        "\n"
      ],
      "metadata": {
        "id": "m-yDvUZmF746"
      }
    },
    {
      "cell_type": "code",
      "source": [
        "#Cambiamos el nombre de algunas columnas para poder trabajar con ellas mas adelante\n",
        "\n",
        "df.rename(columns={'Categoría Final': 'Categoria_Final'}, inplace=True)\n",
        "df.rename(columns={'Fecha de creación': 'Fecha_de_creacion'}, inplace=True)\n",
        "df.rename(columns={'Fecha solución propuesta': 'Categoria_Final'}, inplace=True)\n",
        "df.rename(columns={'Fecha de modificación': 'Fecha_de_modificacion'}, inplace=True)\n",
        "\n",
        "#El inplace = True hace que las modificaciones se hagan sobr el df actual en vez de crear un \n",
        "#nuevo df con las nuevas modificaciones\n"
      ],
      "metadata": {
        "id": "pRXAsjCRmg-g"
      },
      "execution_count": 5,
      "outputs": []
    },
    {
      "cell_type": "code",
      "source": [
        "print(df.shape) #Muestra el nº de filas y columnas en la BBDD"
      ],
      "metadata": {
        "id": "gKrrs_0NIJA_",
        "colab": {
          "base_uri": "https://localhost:8080/"
        },
        "outputId": "b7e7b3ba-fb12-415d-9fed-c9d8aecf1752"
      },
      "execution_count": null,
      "outputs": [
        {
          "output_type": "stream",
          "name": "stdout",
          "text": [
            "(16041, 10)\n"
          ]
        }
      ]
    },
    {
      "cell_type": "code",
      "source": [
        "df.describe(include = 'all') #Muestra una descripción por columnas de la BBDD\n",
        "                           "
      ],
      "metadata": {
        "colab": {
          "base_uri": "https://localhost:8080/",
          "height": 643
        },
        "id": "Lkb3fGcINdbv",
        "outputId": "ded660d3-22df-415b-a600-3d16951172cd"
      },
      "execution_count": null,
      "outputs": [
        {
          "output_type": "stream",
          "name": "stderr",
          "text": [
            "<ipython-input-6-71966d3f17ce>:1: FutureWarning: Treating datetime data as categorical rather than numeric in `.describe` is deprecated and will be removed in a future version of pandas. Specify `datetime_is_numeric=True` to silence this warning and adopt the future behavior now.\n",
            "  df.describe(include = 'all') #Muestra una descripción por columnas de la BBDD\n"
          ]
        },
        {
          "output_type": "execute_result",
          "data": {
            "text/plain": [
              "                  ID          Tipo            Categoría        Categoría.1  \\\n",
              "count   1.604100e+04         16041                 1147               7555   \n",
              "unique           NaN             7                    3                  6   \n",
              "top              NaN  Herramientas  Extracción de datos  Uso de QLIK SENSE   \n",
              "freq             NaN          7555                  774               3950   \n",
              "first            NaN           NaN                  NaN                NaN   \n",
              "last             NaN           NaN                  NaN                NaN   \n",
              "mean    8.369551e+05           NaN                  NaN                NaN   \n",
              "std     2.238160e+05           NaN                  NaN                NaN   \n",
              "min     3.783170e+05           NaN                  NaN                NaN   \n",
              "25%     6.351280e+05           NaN                  NaN                NaN   \n",
              "50%     8.832230e+05           NaN                  NaN                NaN   \n",
              "75%     1.028164e+06           NaN                  NaN                NaN   \n",
              "max     1.165252e+06           NaN                  NaN                NaN   \n",
              "\n",
              "                              Categoría.2    Categoria_Final  \\\n",
              "count                                3392              16041   \n",
              "unique                                  2                 15   \n",
              "top     Consulta sobre el modelo de datos  Uso de QLIK SENSE   \n",
              "freq                                 3077               3950   \n",
              "first                                 NaN                NaN   \n",
              "last                                  NaN                NaN   \n",
              "mean                                  NaN                NaN   \n",
              "std                                   NaN                NaN   \n",
              "min                                   NaN                NaN   \n",
              "25%                                   NaN                NaN   \n",
              "50%                                   NaN                NaN   \n",
              "75%                                   NaN                NaN   \n",
              "max                                   NaN                NaN   \n",
              "\n",
              "          Fecha_de_creacion      Categoria_Final Subcategoría  \\\n",
              "count                 16041                14606         7555   \n",
              "unique                15867                 1691           13   \n",
              "top     2016-12-27 10:34:00  2021-08-01 12:00:00      Accesos   \n",
              "freq                      3                  166         4634   \n",
              "first   2016-08-23 10:22:00  2016-09-16 12:00:00          NaN   \n",
              "last    2022-12-30 14:32:00  2022-12-30 12:00:00          NaN   \n",
              "mean                    NaN                  NaN          NaN   \n",
              "std                     NaN                  NaN          NaN   \n",
              "min                     NaN                  NaN          NaN   \n",
              "25%                     NaN                  NaN          NaN   \n",
              "50%                     NaN                  NaN          NaN   \n",
              "75%                     NaN                  NaN          NaN   \n",
              "max                     NaN                  NaN          NaN   \n",
              "\n",
              "       Fecha_de_modificacion  \n",
              "count                  16041  \n",
              "unique                 13529  \n",
              "top      2022-11-16 11:30:00  \n",
              "freq                      12  \n",
              "first    2016-09-01 16:14:00  \n",
              "last     2022-12-31 09:50:00  \n",
              "mean                     NaN  \n",
              "std                      NaN  \n",
              "min                      NaN  \n",
              "25%                      NaN  \n",
              "50%                      NaN  \n",
              "75%                      NaN  \n",
              "max                      NaN  "
            ],
            "text/html": [
              "\n",
              "  <div id=\"df-03ae2fc1-3efb-41f6-ba0e-ca38dffee0d3\">\n",
              "    <div class=\"colab-df-container\">\n",
              "      <div>\n",
              "<style scoped>\n",
              "    .dataframe tbody tr th:only-of-type {\n",
              "        vertical-align: middle;\n",
              "    }\n",
              "\n",
              "    .dataframe tbody tr th {\n",
              "        vertical-align: top;\n",
              "    }\n",
              "\n",
              "    .dataframe thead th {\n",
              "        text-align: right;\n",
              "    }\n",
              "</style>\n",
              "<table border=\"1\" class=\"dataframe\">\n",
              "  <thead>\n",
              "    <tr style=\"text-align: right;\">\n",
              "      <th></th>\n",
              "      <th>ID</th>\n",
              "      <th>Tipo</th>\n",
              "      <th>Categoría</th>\n",
              "      <th>Categoría.1</th>\n",
              "      <th>Categoría.2</th>\n",
              "      <th>Categoria_Final</th>\n",
              "      <th>Fecha_de_creacion</th>\n",
              "      <th>Categoria_Final</th>\n",
              "      <th>Subcategoría</th>\n",
              "      <th>Fecha_de_modificacion</th>\n",
              "    </tr>\n",
              "  </thead>\n",
              "  <tbody>\n",
              "    <tr>\n",
              "      <th>count</th>\n",
              "      <td>1.604100e+04</td>\n",
              "      <td>16041</td>\n",
              "      <td>1147</td>\n",
              "      <td>7555</td>\n",
              "      <td>3392</td>\n",
              "      <td>16041</td>\n",
              "      <td>16041</td>\n",
              "      <td>14606</td>\n",
              "      <td>7555</td>\n",
              "      <td>16041</td>\n",
              "    </tr>\n",
              "    <tr>\n",
              "      <th>unique</th>\n",
              "      <td>NaN</td>\n",
              "      <td>7</td>\n",
              "      <td>3</td>\n",
              "      <td>6</td>\n",
              "      <td>2</td>\n",
              "      <td>15</td>\n",
              "      <td>15867</td>\n",
              "      <td>1691</td>\n",
              "      <td>13</td>\n",
              "      <td>13529</td>\n",
              "    </tr>\n",
              "    <tr>\n",
              "      <th>top</th>\n",
              "      <td>NaN</td>\n",
              "      <td>Herramientas</td>\n",
              "      <td>Extracción de datos</td>\n",
              "      <td>Uso de QLIK SENSE</td>\n",
              "      <td>Consulta sobre el modelo de datos</td>\n",
              "      <td>Uso de QLIK SENSE</td>\n",
              "      <td>2016-12-27 10:34:00</td>\n",
              "      <td>2021-08-01 12:00:00</td>\n",
              "      <td>Accesos</td>\n",
              "      <td>2022-11-16 11:30:00</td>\n",
              "    </tr>\n",
              "    <tr>\n",
              "      <th>freq</th>\n",
              "      <td>NaN</td>\n",
              "      <td>7555</td>\n",
              "      <td>774</td>\n",
              "      <td>3950</td>\n",
              "      <td>3077</td>\n",
              "      <td>3950</td>\n",
              "      <td>3</td>\n",
              "      <td>166</td>\n",
              "      <td>4634</td>\n",
              "      <td>12</td>\n",
              "    </tr>\n",
              "    <tr>\n",
              "      <th>first</th>\n",
              "      <td>NaN</td>\n",
              "      <td>NaN</td>\n",
              "      <td>NaN</td>\n",
              "      <td>NaN</td>\n",
              "      <td>NaN</td>\n",
              "      <td>NaN</td>\n",
              "      <td>2016-08-23 10:22:00</td>\n",
              "      <td>2016-09-16 12:00:00</td>\n",
              "      <td>NaN</td>\n",
              "      <td>2016-09-01 16:14:00</td>\n",
              "    </tr>\n",
              "    <tr>\n",
              "      <th>last</th>\n",
              "      <td>NaN</td>\n",
              "      <td>NaN</td>\n",
              "      <td>NaN</td>\n",
              "      <td>NaN</td>\n",
              "      <td>NaN</td>\n",
              "      <td>NaN</td>\n",
              "      <td>2022-12-30 14:32:00</td>\n",
              "      <td>2022-12-30 12:00:00</td>\n",
              "      <td>NaN</td>\n",
              "      <td>2022-12-31 09:50:00</td>\n",
              "    </tr>\n",
              "    <tr>\n",
              "      <th>mean</th>\n",
              "      <td>8.369551e+05</td>\n",
              "      <td>NaN</td>\n",
              "      <td>NaN</td>\n",
              "      <td>NaN</td>\n",
              "      <td>NaN</td>\n",
              "      <td>NaN</td>\n",
              "      <td>NaN</td>\n",
              "      <td>NaN</td>\n",
              "      <td>NaN</td>\n",
              "      <td>NaN</td>\n",
              "    </tr>\n",
              "    <tr>\n",
              "      <th>std</th>\n",
              "      <td>2.238160e+05</td>\n",
              "      <td>NaN</td>\n",
              "      <td>NaN</td>\n",
              "      <td>NaN</td>\n",
              "      <td>NaN</td>\n",
              "      <td>NaN</td>\n",
              "      <td>NaN</td>\n",
              "      <td>NaN</td>\n",
              "      <td>NaN</td>\n",
              "      <td>NaN</td>\n",
              "    </tr>\n",
              "    <tr>\n",
              "      <th>min</th>\n",
              "      <td>3.783170e+05</td>\n",
              "      <td>NaN</td>\n",
              "      <td>NaN</td>\n",
              "      <td>NaN</td>\n",
              "      <td>NaN</td>\n",
              "      <td>NaN</td>\n",
              "      <td>NaN</td>\n",
              "      <td>NaN</td>\n",
              "      <td>NaN</td>\n",
              "      <td>NaN</td>\n",
              "    </tr>\n",
              "    <tr>\n",
              "      <th>25%</th>\n",
              "      <td>6.351280e+05</td>\n",
              "      <td>NaN</td>\n",
              "      <td>NaN</td>\n",
              "      <td>NaN</td>\n",
              "      <td>NaN</td>\n",
              "      <td>NaN</td>\n",
              "      <td>NaN</td>\n",
              "      <td>NaN</td>\n",
              "      <td>NaN</td>\n",
              "      <td>NaN</td>\n",
              "    </tr>\n",
              "    <tr>\n",
              "      <th>50%</th>\n",
              "      <td>8.832230e+05</td>\n",
              "      <td>NaN</td>\n",
              "      <td>NaN</td>\n",
              "      <td>NaN</td>\n",
              "      <td>NaN</td>\n",
              "      <td>NaN</td>\n",
              "      <td>NaN</td>\n",
              "      <td>NaN</td>\n",
              "      <td>NaN</td>\n",
              "      <td>NaN</td>\n",
              "    </tr>\n",
              "    <tr>\n",
              "      <th>75%</th>\n",
              "      <td>1.028164e+06</td>\n",
              "      <td>NaN</td>\n",
              "      <td>NaN</td>\n",
              "      <td>NaN</td>\n",
              "      <td>NaN</td>\n",
              "      <td>NaN</td>\n",
              "      <td>NaN</td>\n",
              "      <td>NaN</td>\n",
              "      <td>NaN</td>\n",
              "      <td>NaN</td>\n",
              "    </tr>\n",
              "    <tr>\n",
              "      <th>max</th>\n",
              "      <td>1.165252e+06</td>\n",
              "      <td>NaN</td>\n",
              "      <td>NaN</td>\n",
              "      <td>NaN</td>\n",
              "      <td>NaN</td>\n",
              "      <td>NaN</td>\n",
              "      <td>NaN</td>\n",
              "      <td>NaN</td>\n",
              "      <td>NaN</td>\n",
              "      <td>NaN</td>\n",
              "    </tr>\n",
              "  </tbody>\n",
              "</table>\n",
              "</div>\n",
              "      <button class=\"colab-df-convert\" onclick=\"convertToInteractive('df-03ae2fc1-3efb-41f6-ba0e-ca38dffee0d3')\"\n",
              "              title=\"Convert this dataframe to an interactive table.\"\n",
              "              style=\"display:none;\">\n",
              "        \n",
              "  <svg xmlns=\"http://www.w3.org/2000/svg\" height=\"24px\"viewBox=\"0 0 24 24\"\n",
              "       width=\"24px\">\n",
              "    <path d=\"M0 0h24v24H0V0z\" fill=\"none\"/>\n",
              "    <path d=\"M18.56 5.44l.94 2.06.94-2.06 2.06-.94-2.06-.94-.94-2.06-.94 2.06-2.06.94zm-11 1L8.5 8.5l.94-2.06 2.06-.94-2.06-.94L8.5 2.5l-.94 2.06-2.06.94zm10 10l.94 2.06.94-2.06 2.06-.94-2.06-.94-.94-2.06-.94 2.06-2.06.94z\"/><path d=\"M17.41 7.96l-1.37-1.37c-.4-.4-.92-.59-1.43-.59-.52 0-1.04.2-1.43.59L10.3 9.45l-7.72 7.72c-.78.78-.78 2.05 0 2.83L4 21.41c.39.39.9.59 1.41.59.51 0 1.02-.2 1.41-.59l7.78-7.78 2.81-2.81c.8-.78.8-2.07 0-2.86zM5.41 20L4 18.59l7.72-7.72 1.47 1.35L5.41 20z\"/>\n",
              "  </svg>\n",
              "      </button>\n",
              "      \n",
              "  <style>\n",
              "    .colab-df-container {\n",
              "      display:flex;\n",
              "      flex-wrap:wrap;\n",
              "      gap: 12px;\n",
              "    }\n",
              "\n",
              "    .colab-df-convert {\n",
              "      background-color: #E8F0FE;\n",
              "      border: none;\n",
              "      border-radius: 50%;\n",
              "      cursor: pointer;\n",
              "      display: none;\n",
              "      fill: #1967D2;\n",
              "      height: 32px;\n",
              "      padding: 0 0 0 0;\n",
              "      width: 32px;\n",
              "    }\n",
              "\n",
              "    .colab-df-convert:hover {\n",
              "      background-color: #E2EBFA;\n",
              "      box-shadow: 0px 1px 2px rgba(60, 64, 67, 0.3), 0px 1px 3px 1px rgba(60, 64, 67, 0.15);\n",
              "      fill: #174EA6;\n",
              "    }\n",
              "\n",
              "    [theme=dark] .colab-df-convert {\n",
              "      background-color: #3B4455;\n",
              "      fill: #D2E3FC;\n",
              "    }\n",
              "\n",
              "    [theme=dark] .colab-df-convert:hover {\n",
              "      background-color: #434B5C;\n",
              "      box-shadow: 0px 1px 3px 1px rgba(0, 0, 0, 0.15);\n",
              "      filter: drop-shadow(0px 1px 2px rgba(0, 0, 0, 0.3));\n",
              "      fill: #FFFFFF;\n",
              "    }\n",
              "  </style>\n",
              "\n",
              "      <script>\n",
              "        const buttonEl =\n",
              "          document.querySelector('#df-03ae2fc1-3efb-41f6-ba0e-ca38dffee0d3 button.colab-df-convert');\n",
              "        buttonEl.style.display =\n",
              "          google.colab.kernel.accessAllowed ? 'block' : 'none';\n",
              "\n",
              "        async function convertToInteractive(key) {\n",
              "          const element = document.querySelector('#df-03ae2fc1-3efb-41f6-ba0e-ca38dffee0d3');\n",
              "          const dataTable =\n",
              "            await google.colab.kernel.invokeFunction('convertToInteractive',\n",
              "                                                     [key], {});\n",
              "          if (!dataTable) return;\n",
              "\n",
              "          const docLinkHtml = 'Like what you see? Visit the ' +\n",
              "            '<a target=\"_blank\" href=https://colab.research.google.com/notebooks/data_table.ipynb>data table notebook</a>'\n",
              "            + ' to learn more about interactive tables.';\n",
              "          element.innerHTML = '';\n",
              "          dataTable['output_type'] = 'display_data';\n",
              "          await google.colab.output.renderOutput(dataTable, element);\n",
              "          const docLink = document.createElement('div');\n",
              "          docLink.innerHTML = docLinkHtml;\n",
              "          element.appendChild(docLink);\n",
              "        }\n",
              "      </script>\n",
              "    </div>\n",
              "  </div>\n",
              "  "
            ]
          },
          "metadata": {},
          "execution_count": 6
        }
      ]
    },
    {
      "cell_type": "markdown",
      "source": [
        "\n",
        "Por defecto solo muestra las que contienen numeros, para que muestre todo hace falta incluir el (include = 'all')\n",
        "\n",
        "\n",
        "Este método te proporciona un resumen estadístico de las columnas numéricas de un DataFrame, incluyendo la media, la desviación estándar, la mediana, los cuartiles, el mínimo y el máximo.\n"
      ],
      "metadata": {
        "id": "DYBkDxURNydy"
      }
    },
    {
      "cell_type": "code",
      "source": [
        "print(df.columns) #Muestra los nombres de las columnas en un DataFrame."
      ],
      "metadata": {
        "colab": {
          "base_uri": "https://localhost:8080/"
        },
        "id": "H4hDC5rlOWm7",
        "outputId": "fbe13049-f310-4500-c4ff-1d74ce6eac2c"
      },
      "execution_count": null,
      "outputs": [
        {
          "output_type": "stream",
          "name": "stdout",
          "text": [
            "Index(['ID', 'Tipo', 'Categoría', 'Categoría.1', 'Categoría.2',\n",
            "       'Categoria_Final', 'Fecha_de_creacion', 'Categoria_Final',\n",
            "       'Subcategoría', 'Fecha_de_modificacion'],\n",
            "      dtype='object')\n"
          ]
        }
      ]
    },
    {
      "cell_type": "code",
      "source": [
        "print(df[\"ID\"].value_counts())\n"
      ],
      "metadata": {
        "colab": {
          "base_uri": "https://localhost:8080/"
        },
        "id": "oI7LioBMOne2",
        "outputId": "fc907248-468b-41cf-b9e6-0db9feab4111"
      },
      "execution_count": null,
      "outputs": [
        {
          "output_type": "stream",
          "name": "stdout",
          "text": [
            "1165252    1\n",
            "727747     1\n",
            "728614     1\n",
            "728573     1\n",
            "728572     1\n",
            "          ..\n",
            "984860     1\n",
            "984859     1\n",
            "984853     1\n",
            "984849     1\n",
            "378317     1\n",
            "Name: ID, Length: 16041, dtype: int64\n"
          ]
        }
      ]
    },
    {
      "cell_type": "code",
      "source": [
        "\n",
        "#Creo que esto no hace falta ya que lo reconoce como objeto de data\n",
        "\n",
        "df['Fecha de creación'] = pd.to_datetime(df['Fecha de creación'], format='%d/%m/%Y %H:%M')\n",
        "df['Fecha solución propuesta'] = pd.to_datetime(df['Fecha solución propuesta'], format='%d/%m/%Y %H:%M')\n",
        "df['Fecha de modificación'] = pd.to_datetime(df['Fecha de modificación'], format='%d/%m/%Y %H:%M')\n",
        "#Cambiamos el formato del df de las fechas de un formato que no lo reconoce jupyter notebook a un formato \n",
        "# que si reconoce y entonces podemos pasar ya a un mejor analisis\n"
      ],
      "metadata": {
        "id": "qmnOZfEQQFCq"
      },
      "execution_count": null,
      "outputs": []
    },
    {
      "cell_type": "code",
      "source": [
        "df.describe #ahora si que reconoce la fecha de creacion/resolucion con formato de fecha"
      ],
      "metadata": {
        "colab": {
          "base_uri": "https://localhost:8080/"
        },
        "id": "QQJGhIasQ5iP",
        "outputId": "18a1895c-4fc6-4621-9076-ea2fce3e740d"
      },
      "execution_count": null,
      "outputs": [
        {
          "output_type": "execute_result",
          "data": {
            "text/plain": [
              "<bound method NDFrame.describe of             ID               Tipo            Categoría        Categoría.1  \\\n",
              "0      1165252       Extracciones  Extracción de datos                NaN   \n",
              "1      1165248       Extracciones  Extracción de datos                NaN   \n",
              "2      1165245     Gestión de KDE                  NaN                NaN   \n",
              "3      1165034       Herramientas                  NaN  Uso de QLIK SENSE   \n",
              "4      1164938       Herramientas                  NaN  Uso de QLIK SENSE   \n",
              "...        ...                ...                  ...                ...   \n",
              "16036   380375  Permisos Datapool                  NaN                NaN   \n",
              "16037   380373    Modelo de Datos                  NaN                NaN   \n",
              "16038   378538  Permisos Datapool                  NaN                NaN   \n",
              "16039   378533    Modelo de Datos                  NaN                NaN   \n",
              "16040   378317    Modelo de Datos                  NaN                NaN   \n",
              "\n",
              "                             Categoría.2                    Categoria_Final  \\\n",
              "0                                    NaN                Extracción de datos   \n",
              "1                                    NaN                Extracción de datos   \n",
              "2                                    NaN                     Gestión de KDE   \n",
              "3                                    NaN                  Uso de QLIK SENSE   \n",
              "4                                    NaN                  Uso de QLIK SENSE   \n",
              "...                                  ...                                ...   \n",
              "16036                                NaN                  Permisos Datapool   \n",
              "16037  Consulta sobre el modelo de datos  Consulta sobre el modelo de datos   \n",
              "16038                                NaN                  Permisos Datapool   \n",
              "16039  Consulta sobre el modelo de datos  Consulta sobre el modelo de datos   \n",
              "16040  Consulta sobre el modelo de datos  Consulta sobre el modelo de datos   \n",
              "\n",
              "        Fecha_de_creacion Categoria_Final    Subcategoría  \\\n",
              "0     2022-12-30 14:32:00             NaT             NaN   \n",
              "1     2022-12-30 14:23:00             NaT             NaN   \n",
              "2     2022-12-30 14:11:00             NaT             NaN   \n",
              "3     2022-12-30 01:09:00             NaT         Accesos   \n",
              "4     2022-12-29 17:17:00             NaT  Recarga Stream   \n",
              "...                   ...             ...             ...   \n",
              "16036 2016-09-01 15:01:00             NaT             NaN   \n",
              "16037 2016-09-01 15:00:00             NaT             NaN   \n",
              "16038 2016-08-24 09:31:00             NaT             NaN   \n",
              "16039 2016-08-24 09:16:00             NaT             NaN   \n",
              "16040 2016-08-23 10:22:00             NaT             NaN   \n",
              "\n",
              "      Fecha_de_modificacion  \n",
              "0       2022-12-30 15:19:00  \n",
              "1       2022-12-30 15:18:00  \n",
              "2       2022-12-30 15:56:00  \n",
              "3       2022-12-30 10:25:00  \n",
              "4       2022-12-29 17:44:00  \n",
              "...                     ...  \n",
              "16036   2016-09-01 16:31:00  \n",
              "16037   2016-11-09 10:39:00  \n",
              "16038   2016-09-14 13:44:00  \n",
              "16039   2016-09-14 12:53:00  \n",
              "16040   2016-09-14 13:44:00  \n",
              "\n",
              "[16041 rows x 10 columns]>"
            ]
          },
          "metadata": {},
          "execution_count": 8
        }
      ]
    },
    {
      "cell_type": "code",
      "source": [
        "df = df.drop(columns=['Categoría','Categoría.1','Categoría.2','Subcategoría'], axis=0) #axis = 1 --> se borra una columna\n",
        "                                              #axis = 0 --> se borra una fila "
      ],
      "metadata": {
        "id": "wUNrRrqVS3gg"
      },
      "execution_count": 3,
      "outputs": []
    },
    {
      "cell_type": "code",
      "source": [
        "df.describe(include = 'all')"
      ],
      "metadata": {
        "colab": {
          "base_uri": "https://localhost:8080/",
          "height": 513
        },
        "id": "IR4jD7nY2vt7",
        "outputId": "16311659-717a-43e0-cd4b-9a7551c7877e"
      },
      "execution_count": 4,
      "outputs": [
        {
          "output_type": "stream",
          "name": "stderr",
          "text": [
            "<ipython-input-4-74aa2f970831>:1: FutureWarning: Treating datetime data as categorical rather than numeric in `.describe` is deprecated and will be removed in a future version of pandas. Specify `datetime_is_numeric=True` to silence this warning and adopt the future behavior now.\n",
            "  df.describe(include = 'all')\n"
          ]
        },
        {
          "output_type": "execute_result",
          "data": {
            "text/plain": [
              "                  ID          Tipo    Categoría Final    Fecha de creación  \\\n",
              "count   1.604100e+04         16041              16041                16041   \n",
              "unique           NaN             7                 15                15867   \n",
              "top              NaN  Herramientas  Uso de QLIK SENSE  2016-12-27 10:34:00   \n",
              "freq             NaN          7555               3950                    3   \n",
              "first            NaN           NaN                NaN  2016-08-23 10:22:00   \n",
              "last             NaN           NaN                NaN  2022-12-30 14:32:00   \n",
              "mean    8.369551e+05           NaN                NaN                  NaN   \n",
              "std     2.238160e+05           NaN                NaN                  NaN   \n",
              "min     3.783170e+05           NaN                NaN                  NaN   \n",
              "25%     6.351280e+05           NaN                NaN                  NaN   \n",
              "50%     8.832230e+05           NaN                NaN                  NaN   \n",
              "75%     1.028164e+06           NaN                NaN                  NaN   \n",
              "max     1.165252e+06           NaN                NaN                  NaN   \n",
              "\n",
              "       Fecha solución propuesta Fecha de modificación  \n",
              "count                     14606                 16041  \n",
              "unique                     1691                 13529  \n",
              "top         2021-08-01 12:00:00   2022-11-16 11:30:00  \n",
              "freq                        166                    12  \n",
              "first       2016-09-16 12:00:00   2016-09-01 16:14:00  \n",
              "last        2022-12-30 12:00:00   2022-12-31 09:50:00  \n",
              "mean                        NaN                   NaN  \n",
              "std                         NaN                   NaN  \n",
              "min                         NaN                   NaN  \n",
              "25%                         NaN                   NaN  \n",
              "50%                         NaN                   NaN  \n",
              "75%                         NaN                   NaN  \n",
              "max                         NaN                   NaN  "
            ],
            "text/html": [
              "\n",
              "  <div id=\"df-4f5d800e-d386-4bf8-836d-2695a3af022f\">\n",
              "    <div class=\"colab-df-container\">\n",
              "      <div>\n",
              "<style scoped>\n",
              "    .dataframe tbody tr th:only-of-type {\n",
              "        vertical-align: middle;\n",
              "    }\n",
              "\n",
              "    .dataframe tbody tr th {\n",
              "        vertical-align: top;\n",
              "    }\n",
              "\n",
              "    .dataframe thead th {\n",
              "        text-align: right;\n",
              "    }\n",
              "</style>\n",
              "<table border=\"1\" class=\"dataframe\">\n",
              "  <thead>\n",
              "    <tr style=\"text-align: right;\">\n",
              "      <th></th>\n",
              "      <th>ID</th>\n",
              "      <th>Tipo</th>\n",
              "      <th>Categoría Final</th>\n",
              "      <th>Fecha de creación</th>\n",
              "      <th>Fecha solución propuesta</th>\n",
              "      <th>Fecha de modificación</th>\n",
              "    </tr>\n",
              "  </thead>\n",
              "  <tbody>\n",
              "    <tr>\n",
              "      <th>count</th>\n",
              "      <td>1.604100e+04</td>\n",
              "      <td>16041</td>\n",
              "      <td>16041</td>\n",
              "      <td>16041</td>\n",
              "      <td>14606</td>\n",
              "      <td>16041</td>\n",
              "    </tr>\n",
              "    <tr>\n",
              "      <th>unique</th>\n",
              "      <td>NaN</td>\n",
              "      <td>7</td>\n",
              "      <td>15</td>\n",
              "      <td>15867</td>\n",
              "      <td>1691</td>\n",
              "      <td>13529</td>\n",
              "    </tr>\n",
              "    <tr>\n",
              "      <th>top</th>\n",
              "      <td>NaN</td>\n",
              "      <td>Herramientas</td>\n",
              "      <td>Uso de QLIK SENSE</td>\n",
              "      <td>2016-12-27 10:34:00</td>\n",
              "      <td>2021-08-01 12:00:00</td>\n",
              "      <td>2022-11-16 11:30:00</td>\n",
              "    </tr>\n",
              "    <tr>\n",
              "      <th>freq</th>\n",
              "      <td>NaN</td>\n",
              "      <td>7555</td>\n",
              "      <td>3950</td>\n",
              "      <td>3</td>\n",
              "      <td>166</td>\n",
              "      <td>12</td>\n",
              "    </tr>\n",
              "    <tr>\n",
              "      <th>first</th>\n",
              "      <td>NaN</td>\n",
              "      <td>NaN</td>\n",
              "      <td>NaN</td>\n",
              "      <td>2016-08-23 10:22:00</td>\n",
              "      <td>2016-09-16 12:00:00</td>\n",
              "      <td>2016-09-01 16:14:00</td>\n",
              "    </tr>\n",
              "    <tr>\n",
              "      <th>last</th>\n",
              "      <td>NaN</td>\n",
              "      <td>NaN</td>\n",
              "      <td>NaN</td>\n",
              "      <td>2022-12-30 14:32:00</td>\n",
              "      <td>2022-12-30 12:00:00</td>\n",
              "      <td>2022-12-31 09:50:00</td>\n",
              "    </tr>\n",
              "    <tr>\n",
              "      <th>mean</th>\n",
              "      <td>8.369551e+05</td>\n",
              "      <td>NaN</td>\n",
              "      <td>NaN</td>\n",
              "      <td>NaN</td>\n",
              "      <td>NaN</td>\n",
              "      <td>NaN</td>\n",
              "    </tr>\n",
              "    <tr>\n",
              "      <th>std</th>\n",
              "      <td>2.238160e+05</td>\n",
              "      <td>NaN</td>\n",
              "      <td>NaN</td>\n",
              "      <td>NaN</td>\n",
              "      <td>NaN</td>\n",
              "      <td>NaN</td>\n",
              "    </tr>\n",
              "    <tr>\n",
              "      <th>min</th>\n",
              "      <td>3.783170e+05</td>\n",
              "      <td>NaN</td>\n",
              "      <td>NaN</td>\n",
              "      <td>NaN</td>\n",
              "      <td>NaN</td>\n",
              "      <td>NaN</td>\n",
              "    </tr>\n",
              "    <tr>\n",
              "      <th>25%</th>\n",
              "      <td>6.351280e+05</td>\n",
              "      <td>NaN</td>\n",
              "      <td>NaN</td>\n",
              "      <td>NaN</td>\n",
              "      <td>NaN</td>\n",
              "      <td>NaN</td>\n",
              "    </tr>\n",
              "    <tr>\n",
              "      <th>50%</th>\n",
              "      <td>8.832230e+05</td>\n",
              "      <td>NaN</td>\n",
              "      <td>NaN</td>\n",
              "      <td>NaN</td>\n",
              "      <td>NaN</td>\n",
              "      <td>NaN</td>\n",
              "    </tr>\n",
              "    <tr>\n",
              "      <th>75%</th>\n",
              "      <td>1.028164e+06</td>\n",
              "      <td>NaN</td>\n",
              "      <td>NaN</td>\n",
              "      <td>NaN</td>\n",
              "      <td>NaN</td>\n",
              "      <td>NaN</td>\n",
              "    </tr>\n",
              "    <tr>\n",
              "      <th>max</th>\n",
              "      <td>1.165252e+06</td>\n",
              "      <td>NaN</td>\n",
              "      <td>NaN</td>\n",
              "      <td>NaN</td>\n",
              "      <td>NaN</td>\n",
              "      <td>NaN</td>\n",
              "    </tr>\n",
              "  </tbody>\n",
              "</table>\n",
              "</div>\n",
              "      <button class=\"colab-df-convert\" onclick=\"convertToInteractive('df-4f5d800e-d386-4bf8-836d-2695a3af022f')\"\n",
              "              title=\"Convert this dataframe to an interactive table.\"\n",
              "              style=\"display:none;\">\n",
              "        \n",
              "  <svg xmlns=\"http://www.w3.org/2000/svg\" height=\"24px\"viewBox=\"0 0 24 24\"\n",
              "       width=\"24px\">\n",
              "    <path d=\"M0 0h24v24H0V0z\" fill=\"none\"/>\n",
              "    <path d=\"M18.56 5.44l.94 2.06.94-2.06 2.06-.94-2.06-.94-.94-2.06-.94 2.06-2.06.94zm-11 1L8.5 8.5l.94-2.06 2.06-.94-2.06-.94L8.5 2.5l-.94 2.06-2.06.94zm10 10l.94 2.06.94-2.06 2.06-.94-2.06-.94-.94-2.06-.94 2.06-2.06.94z\"/><path d=\"M17.41 7.96l-1.37-1.37c-.4-.4-.92-.59-1.43-.59-.52 0-1.04.2-1.43.59L10.3 9.45l-7.72 7.72c-.78.78-.78 2.05 0 2.83L4 21.41c.39.39.9.59 1.41.59.51 0 1.02-.2 1.41-.59l7.78-7.78 2.81-2.81c.8-.78.8-2.07 0-2.86zM5.41 20L4 18.59l7.72-7.72 1.47 1.35L5.41 20z\"/>\n",
              "  </svg>\n",
              "      </button>\n",
              "      \n",
              "  <style>\n",
              "    .colab-df-container {\n",
              "      display:flex;\n",
              "      flex-wrap:wrap;\n",
              "      gap: 12px;\n",
              "    }\n",
              "\n",
              "    .colab-df-convert {\n",
              "      background-color: #E8F0FE;\n",
              "      border: none;\n",
              "      border-radius: 50%;\n",
              "      cursor: pointer;\n",
              "      display: none;\n",
              "      fill: #1967D2;\n",
              "      height: 32px;\n",
              "      padding: 0 0 0 0;\n",
              "      width: 32px;\n",
              "    }\n",
              "\n",
              "    .colab-df-convert:hover {\n",
              "      background-color: #E2EBFA;\n",
              "      box-shadow: 0px 1px 2px rgba(60, 64, 67, 0.3), 0px 1px 3px 1px rgba(60, 64, 67, 0.15);\n",
              "      fill: #174EA6;\n",
              "    }\n",
              "\n",
              "    [theme=dark] .colab-df-convert {\n",
              "      background-color: #3B4455;\n",
              "      fill: #D2E3FC;\n",
              "    }\n",
              "\n",
              "    [theme=dark] .colab-df-convert:hover {\n",
              "      background-color: #434B5C;\n",
              "      box-shadow: 0px 1px 3px 1px rgba(0, 0, 0, 0.15);\n",
              "      filter: drop-shadow(0px 1px 2px rgba(0, 0, 0, 0.3));\n",
              "      fill: #FFFFFF;\n",
              "    }\n",
              "  </style>\n",
              "\n",
              "      <script>\n",
              "        const buttonEl =\n",
              "          document.querySelector('#df-4f5d800e-d386-4bf8-836d-2695a3af022f button.colab-df-convert');\n",
              "        buttonEl.style.display =\n",
              "          google.colab.kernel.accessAllowed ? 'block' : 'none';\n",
              "\n",
              "        async function convertToInteractive(key) {\n",
              "          const element = document.querySelector('#df-4f5d800e-d386-4bf8-836d-2695a3af022f');\n",
              "          const dataTable =\n",
              "            await google.colab.kernel.invokeFunction('convertToInteractive',\n",
              "                                                     [key], {});\n",
              "          if (!dataTable) return;\n",
              "\n",
              "          const docLinkHtml = 'Like what you see? Visit the ' +\n",
              "            '<a target=\"_blank\" href=https://colab.research.google.com/notebooks/data_table.ipynb>data table notebook</a>'\n",
              "            + ' to learn more about interactive tables.';\n",
              "          element.innerHTML = '';\n",
              "          dataTable['output_type'] = 'display_data';\n",
              "          await google.colab.output.renderOutput(dataTable, element);\n",
              "          const docLink = document.createElement('div');\n",
              "          docLink.innerHTML = docLinkHtml;\n",
              "          element.appendChild(docLink);\n",
              "        }\n",
              "      </script>\n",
              "    </div>\n",
              "  </div>\n",
              "  "
            ]
          },
          "metadata": {},
          "execution_count": 4
        }
      ]
    },
    {
      "cell_type": "code",
      "source": [
        "df['date']= pd.to_datetime(df.Fecha_de_creacion)"
      ],
      "metadata": {
        "id": "jDUxhscMrrkl"
      },
      "execution_count": 19,
      "outputs": []
    },
    {
      "cell_type": "code",
      "source": [
        "df['Year'] = pd.DatetimeIndex(df.date).year\n",
        "df['Month'] = pd.DatetimeIndex(df.date).month\n",
        "df['Day'] = pd.DatetimeIndex(df.date).day\n",
        "df['weekday'] = pd.DatetimeIndex(df.date).weekday"
      ],
      "metadata": {
        "id": "8zGyHq1zviec"
      },
      "execution_count": 20,
      "outputs": []
    },
    {
      "cell_type": "code",
      "source": [
        "df.describe"
      ],
      "metadata": {
        "colab": {
          "base_uri": "https://localhost:8080/"
        },
        "id": "uAgqRam1v27r",
        "outputId": "4328690c-bc13-41a0-f912-0c46998d3051"
      },
      "execution_count": 21,
      "outputs": [
        {
          "output_type": "execute_result",
          "data": {
            "text/plain": [
              "<bound method NDFrame.describe of             ID               Tipo                    Categoria_Final  \\\n",
              "0      1165252       Extracciones                Extracción de datos   \n",
              "1      1165248       Extracciones                Extracción de datos   \n",
              "2      1165245     Gestión de KDE                     Gestión de KDE   \n",
              "3      1165034       Herramientas                  Uso de QLIK SENSE   \n",
              "4      1164938       Herramientas                  Uso de QLIK SENSE   \n",
              "...        ...                ...                                ...   \n",
              "16036   380375  Permisos Datapool                  Permisos Datapool   \n",
              "16037   380373    Modelo de Datos  Consulta sobre el modelo de datos   \n",
              "16038   378538  Permisos Datapool                  Permisos Datapool   \n",
              "16039   378533    Modelo de Datos  Consulta sobre el modelo de datos   \n",
              "16040   378317    Modelo de Datos  Consulta sobre el modelo de datos   \n",
              "\n",
              "        Fecha_de_creacion Categoria_Final Fecha_de_modificacion  \\\n",
              "0     2022-12-30 14:32:00             NaT   2022-12-30 15:19:00   \n",
              "1     2022-12-30 14:23:00             NaT   2022-12-30 15:18:00   \n",
              "2     2022-12-30 14:11:00             NaT   2022-12-30 15:56:00   \n",
              "3     2022-12-30 01:09:00             NaT   2022-12-30 10:25:00   \n",
              "4     2022-12-29 17:17:00             NaT   2022-12-29 17:44:00   \n",
              "...                   ...             ...                   ...   \n",
              "16036 2016-09-01 15:01:00             NaT   2016-09-01 16:31:00   \n",
              "16037 2016-09-01 15:00:00             NaT   2016-11-09 10:39:00   \n",
              "16038 2016-08-24 09:31:00             NaT   2016-09-14 13:44:00   \n",
              "16039 2016-08-24 09:16:00             NaT   2016-09-14 12:53:00   \n",
              "16040 2016-08-23 10:22:00             NaT   2016-09-14 13:44:00   \n",
              "\n",
              "                     date  Year  Month  Day  weekday  \n",
              "0     2022-12-30 14:32:00  2022     12   30        4  \n",
              "1     2022-12-30 14:23:00  2022     12   30        4  \n",
              "2     2022-12-30 14:11:00  2022     12   30        4  \n",
              "3     2022-12-30 01:09:00  2022     12   30        4  \n",
              "4     2022-12-29 17:17:00  2022     12   29        3  \n",
              "...                   ...   ...    ...  ...      ...  \n",
              "16036 2016-09-01 15:01:00  2016      9    1        3  \n",
              "16037 2016-09-01 15:00:00  2016      9    1        3  \n",
              "16038 2016-08-24 09:31:00  2016      8   24        2  \n",
              "16039 2016-08-24 09:16:00  2016      8   24        2  \n",
              "16040 2016-08-23 10:22:00  2016      8   23        1  \n",
              "\n",
              "[16041 rows x 11 columns]>"
            ]
          },
          "metadata": {},
          "execution_count": 21
        }
      ]
    },
    {
      "cell_type": "code",
      "source": [
        "df.Fecha_de_modificacion.plot(x='Fecha_de_modificacion',y='Month')"
      ],
      "metadata": {
        "colab": {
          "base_uri": "https://localhost:8080/",
          "height": 283
        },
        "id": "niikCW4Flzlp",
        "outputId": "48339e97-947f-4d36-8036-6a75faf6e9bf"
      },
      "execution_count": null,
      "outputs": [
        {
          "output_type": "execute_result",
          "data": {
            "text/plain": [
              "<matplotlib.axes._subplots.AxesSubplot at 0x7fc6a3961280>"
            ]
          },
          "metadata": {},
          "execution_count": 17
        },
        {
          "output_type": "display_data",
          "data": {
            "text/plain": [
              "<Figure size 432x288 with 1 Axes>"
            ],
            "image/png": "[encoded data removed]"
          },
          "metadata": {
            "needs_background": "light"
          }
        }
      ]
    },
    {
      "cell_type": "code",
      "source": [
        "df.monthly_counts.plot()\n"
      ],
      "metadata": {
        "colab": {
          "base_uri": "https://localhost:8080/",
          "height": 295
        },
        "id": "wJFfaHTPrpxQ",
        "outputId": "d0215427-909b-413e-c709-4beb6d8d5b1c"
      },
      "execution_count": null,
      "outputs": [
        {
          "output_type": "error",
          "ename": "AttributeError",
          "evalue": "ignored",
          "traceback": [
            "\u001b[0;31m---------------------------------------------------------------------------\u001b[0m",
            "\u001b[0;31mAttributeError\u001b[0m                            Traceback (most recent call last)",
            "\u001b[0;32m<ipython-input-24-7c9d8c0129e3>\u001b[0m in \u001b[0;36m<module>\u001b[0;34m\u001b[0m\n\u001b[0;32m----> 1\u001b[0;31m \u001b[0mdf\u001b[0m\u001b[0;34m.\u001b[0m\u001b[0mmonthly_counts\u001b[0m\u001b[0;34m.\u001b[0m\u001b[0mplot\u001b[0m\u001b[0;34m(\u001b[0m\u001b[0;34m)\u001b[0m\u001b[0;34m\u001b[0m\u001b[0;34m\u001b[0m\u001b[0m\n\u001b[0m",
            "\u001b[0;32m/usr/local/lib/python3.8/dist-packages/pandas/core/generic.py\u001b[0m in \u001b[0;36m__getattr__\u001b[0;34m(self, name)\u001b[0m\n\u001b[1;32m   5485\u001b[0m         ):\n\u001b[1;32m   5486\u001b[0m             \u001b[0;32mreturn\u001b[0m \u001b[0mself\u001b[0m\u001b[0;34m[\u001b[0m\u001b[0mname\u001b[0m\u001b[0;34m]\u001b[0m\u001b[0;34m\u001b[0m\u001b[0;34m\u001b[0m\u001b[0m\n\u001b[0;32m-> 5487\u001b[0;31m         \u001b[0;32mreturn\u001b[0m \u001b[0mobject\u001b[0m\u001b[0;34m.\u001b[0m\u001b[0m__getattribute__\u001b[0m\u001b[0;34m(\u001b[0m\u001b[0mself\u001b[0m\u001b[0;34m,\u001b[0m \u001b[0mname\u001b[0m\u001b[0;34m)\u001b[0m\u001b[0;34m\u001b[0m\u001b[0;34m\u001b[0m\u001b[0m\n\u001b[0m\u001b[1;32m   5488\u001b[0m \u001b[0;34m\u001b[0m\u001b[0m\n\u001b[1;32m   5489\u001b[0m     \u001b[0;32mdef\u001b[0m \u001b[0m__setattr__\u001b[0m\u001b[0;34m(\u001b[0m\u001b[0mself\u001b[0m\u001b[0;34m,\u001b[0m \u001b[0mname\u001b[0m\u001b[0;34m:\u001b[0m \u001b[0mstr\u001b[0m\u001b[0;34m,\u001b[0m \u001b[0mvalue\u001b[0m\u001b[0;34m)\u001b[0m \u001b[0;34m->\u001b[0m \u001b[0;32mNone\u001b[0m\u001b[0;34m:\u001b[0m\u001b[0;34m\u001b[0m\u001b[0;34m\u001b[0m\u001b[0m\n",
            "\u001b[0;31mAttributeError\u001b[0m: 'DataFrame' object has no attribute 'monthly_counts'"
          ]
        }
      ]
    },
    {
      "cell_type": "code",
      "source": [
        "df.set_index('date',inplace=True)\n"
      ],
      "metadata": {
        "id": "D98LEwOewKUm"
      },
      "execution_count": null,
      "outputs": []
    },
    {
      "cell_type": "code",
      "source": [
        "\n",
        "monthly_counts = df.groupby('month').size().reset_index(name='count')"
      ],
      "metadata": {
        "id": "uwj0cq1Yz19j"
      },
      "execution_count": null,
      "outputs": []
    },
    {
      "cell_type": "code",
      "source": [
        "monthly_counts.plot(x='month', y='count', kind='scatter')\n",
        "\n",
        "plt.xlabel('Month')\n",
        "plt.ylabel('Count')\n",
        "plt.title('Monthly Counts')\n",
        "\n",
        "plt.show()"
      ],
      "metadata": {
        "colab": {
          "base_uri": "https://localhost:8080/",
          "height": 295
        },
        "id": "6rVMb2ut-Odi",
        "outputId": "2540ce22-f3cd-4a57-a0fe-0696ab61e757"
      },
      "execution_count": null,
      "outputs": [
        {
          "output_type": "display_data",
          "data": {
            "text/plain": [
              "<Figure size 432x288 with 1 Axes>"
            ],
            "image/png": "[encoded data removed]"
          },
          "metadata": {
            "needs_background": "light"
          }
        }
      ]
    },
    {
      "cell_type": "code",
      "source": [
        "yearly_counts = df.groupby('Year').size().reset_index(name='count')"
      ],
      "metadata": {
        "id": "sqLSHppN6TU3"
      },
      "execution_count": null,
      "outputs": []
    },
    {
      "cell_type": "code",
      "source": [
        "yearly_counts.plot(x='Year', y='count',kind = 'scatter')\n",
        "\n",
        "plt.xlabel('Año')\n",
        "plt.ylabel('Numero de peticiones')\n",
        "plt.title('Numero de peticiones respecto al año')\n",
        "\n",
        "plt.show()"
      ],
      "metadata": {
        "colab": {
          "base_uri": "https://localhost:8080/",
          "height": 295
        },
        "id": "KxZQpVRD6BQq",
        "outputId": "442bac78-cff6-42d8-b87c-7d61610da7fd"
      },
      "execution_count": null,
      "outputs": [
        {
          "output_type": "display_data",
          "data": {
            "text/plain": [
              "<Figure size 432x288 with 1 Axes>"
            ],
            "image/png": "[encoded data removed]"
          },
          "metadata": {
            "needs_background": "light"
          }
        }
      ]
    },
    {
      "cell_type": "code",
      "source": [
        "FM_counts = df.groupby('Fecha_de_modificacion').size().reset_index(name='count')"
      ],
      "metadata": {
        "id": "j8oYQi0D-3sy"
      },
      "execution_count": null,
      "outputs": []
    },
    {
      "cell_type": "code",
      "source": [
        "FM_counts.plot(x='Fecha_de_modficacion', y='count',kind = 'scatter')\n",
        "\n",
        "plt.xlabel('Año')\n",
        "plt.ylabel('Numero de peticiones')\n",
        "plt.title('Numero de peticiones respecto al año')\n",
        "\n",
        "plt.show()"
      ],
      "metadata": {
        "colab": {
          "base_uri": "https://localhost:8080/",
          "height": 769
        },
        "id": "ovsKpZoO_DA7",
        "outputId": "ec2e0e08-0087-4ad3-9e31-c54fba4312e9"
      },
      "execution_count": null,
      "outputs": [
        {
          "output_type": "error",
          "ename": "KeyError",
          "evalue": "ignored",
          "traceback": [
            "\u001b[0;31m---------------------------------------------------------------------------\u001b[0m",
            "\u001b[0;31mKeyError\u001b[0m                                  Traceback (most recent call last)",
            "\u001b[0;32m/usr/local/lib/python3.8/dist-packages/pandas/core/indexes/base.py\u001b[0m in \u001b[0;36mget_loc\u001b[0;34m(self, key, method, tolerance)\u001b[0m\n\u001b[1;32m   3360\u001b[0m             \u001b[0;32mtry\u001b[0m\u001b[0;34m:\u001b[0m\u001b[0;34m\u001b[0m\u001b[0;34m\u001b[0m\u001b[0m\n\u001b[0;32m-> 3361\u001b[0;31m                 \u001b[0;32mreturn\u001b[0m \u001b[0mself\u001b[0m\u001b[0;34m.\u001b[0m\u001b[0m_engine\u001b[0m\u001b[0;34m.\u001b[0m\u001b[0mget_loc\u001b[0m\u001b[0;34m(\u001b[0m\u001b[0mcasted_key\u001b[0m\u001b[0;34m)\u001b[0m\u001b[0;34m\u001b[0m\u001b[0;34m\u001b[0m\u001b[0m\n\u001b[0m\u001b[1;32m   3362\u001b[0m             \u001b[0;32mexcept\u001b[0m \u001b[0mKeyError\u001b[0m \u001b[0;32mas\u001b[0m \u001b[0merr\u001b[0m\u001b[0;34m:\u001b[0m\u001b[0;34m\u001b[0m\u001b[0;34m\u001b[0m\u001b[0m\n",
            "\u001b[0;32m/usr/local/lib/python3.8/dist-packages/pandas/_libs/index.pyx\u001b[0m in \u001b[0;36mpandas._libs.index.IndexEngine.get_loc\u001b[0;34m()\u001b[0m\n",
            "\u001b[0;32m/usr/local/lib/python3.8/dist-packages/pandas/_libs/index.pyx\u001b[0m in \u001b[0;36mpandas._libs.index.IndexEngine.get_loc\u001b[0;34m()\u001b[0m\n",
            "\u001b[0;32mpandas/_libs/hashtable_class_helper.pxi\u001b[0m in \u001b[0;36mpandas._libs.hashtable.PyObjectHashTable.get_item\u001b[0;34m()\u001b[0m\n",
            "\u001b[0;32mpandas/_libs/hashtable_class_helper.pxi\u001b[0m in \u001b[0;36mpandas._libs.hashtable.PyObjectHashTable.get_item\u001b[0;34m()\u001b[0m\n",
            "\u001b[0;31mKeyError\u001b[0m: 'Fecha_de_modficacion'",
            "\nThe above exception was the direct cause of the following exception:\n",
            "\u001b[0;31mKeyError\u001b[0m                                  Traceback (most recent call last)",
            "\u001b[0;32m<ipython-input-38-03862ed0c6d4>\u001b[0m in \u001b[0;36m<module>\u001b[0;34m\u001b[0m\n\u001b[0;32m----> 1\u001b[0;31m \u001b[0mFM_counts\u001b[0m\u001b[0;34m.\u001b[0m\u001b[0mplot\u001b[0m\u001b[0;34m(\u001b[0m\u001b[0mx\u001b[0m\u001b[0;34m=\u001b[0m\u001b[0;34m'Fecha_de_modficacion'\u001b[0m\u001b[0;34m,\u001b[0m \u001b[0my\u001b[0m\u001b[0;34m=\u001b[0m\u001b[0;34m'count'\u001b[0m\u001b[0;34m,\u001b[0m\u001b[0mkind\u001b[0m \u001b[0;34m=\u001b[0m \u001b[0;34m'scatter'\u001b[0m\u001b[0;34m)\u001b[0m\u001b[0;34m\u001b[0m\u001b[0;34m\u001b[0m\u001b[0m\n\u001b[0m\u001b[1;32m      2\u001b[0m \u001b[0;34m\u001b[0m\u001b[0m\n\u001b[1;32m      3\u001b[0m \u001b[0mplt\u001b[0m\u001b[0;34m.\u001b[0m\u001b[0mxlabel\u001b[0m\u001b[0;34m(\u001b[0m\u001b[0;34m'Año'\u001b[0m\u001b[0;34m)\u001b[0m\u001b[0;34m\u001b[0m\u001b[0;34m\u001b[0m\u001b[0m\n\u001b[1;32m      4\u001b[0m \u001b[0mplt\u001b[0m\u001b[0;34m.\u001b[0m\u001b[0mylabel\u001b[0m\u001b[0;34m(\u001b[0m\u001b[0;34m'Numero de peticiones'\u001b[0m\u001b[0;34m)\u001b[0m\u001b[0;34m\u001b[0m\u001b[0;34m\u001b[0m\u001b[0m\n\u001b[1;32m      5\u001b[0m \u001b[0mplt\u001b[0m\u001b[0;34m.\u001b[0m\u001b[0mtitle\u001b[0m\u001b[0;34m(\u001b[0m\u001b[0;34m'Numero de peticiones respecto al año'\u001b[0m\u001b[0;34m)\u001b[0m\u001b[0;34m\u001b[0m\u001b[0;34m\u001b[0m\u001b[0m\n",
            "\u001b[0;32m/usr/local/lib/python3.8/dist-packages/pandas/plotting/_core.py\u001b[0m in \u001b[0;36m__call__\u001b[0;34m(self, *args, **kwargs)\u001b[0m\n\u001b[1;32m    915\u001b[0m         \u001b[0;32mif\u001b[0m \u001b[0mkind\u001b[0m \u001b[0;32min\u001b[0m \u001b[0mself\u001b[0m\u001b[0;34m.\u001b[0m\u001b[0m_dataframe_kinds\u001b[0m\u001b[0;34m:\u001b[0m\u001b[0;34m\u001b[0m\u001b[0;34m\u001b[0m\u001b[0m\n\u001b[1;32m    916\u001b[0m             \u001b[0;32mif\u001b[0m \u001b[0misinstance\u001b[0m\u001b[0;34m(\u001b[0m\u001b[0mdata\u001b[0m\u001b[0;34m,\u001b[0m \u001b[0mABCDataFrame\u001b[0m\u001b[0;34m)\u001b[0m\u001b[0;34m:\u001b[0m\u001b[0;34m\u001b[0m\u001b[0;34m\u001b[0m\u001b[0m\n\u001b[0;32m--> 917\u001b[0;31m                 \u001b[0;32mreturn\u001b[0m \u001b[0mplot_backend\u001b[0m\u001b[0;34m.\u001b[0m\u001b[0mplot\u001b[0m\u001b[0;34m(\u001b[0m\u001b[0mdata\u001b[0m\u001b[0;34m,\u001b[0m \u001b[0mx\u001b[0m\u001b[0;34m=\u001b[0m\u001b[0mx\u001b[0m\u001b[0;34m,\u001b[0m \u001b[0my\u001b[0m\u001b[0;34m=\u001b[0m\u001b[0my\u001b[0m\u001b[0;34m,\u001b[0m \u001b[0mkind\u001b[0m\u001b[0;34m=\u001b[0m\u001b[0mkind\u001b[0m\u001b[0;34m,\u001b[0m \u001b[0;34m**\u001b[0m\u001b[0mkwargs\u001b[0m\u001b[0;34m)\u001b[0m\u001b[0;34m\u001b[0m\u001b[0;34m\u001b[0m\u001b[0m\n\u001b[0m\u001b[1;32m    918\u001b[0m             \u001b[0;32melse\u001b[0m\u001b[0;34m:\u001b[0m\u001b[0;34m\u001b[0m\u001b[0;34m\u001b[0m\u001b[0m\n\u001b[1;32m    919\u001b[0m                 \u001b[0;32mraise\u001b[0m \u001b[0mValueError\u001b[0m\u001b[0;34m(\u001b[0m\u001b[0;34mf\"plot kind {kind} can only be used for data frames\"\u001b[0m\u001b[0;34m)\u001b[0m\u001b[0;34m\u001b[0m\u001b[0;34m\u001b[0m\u001b[0m\n",
            "\u001b[0;32m/usr/local/lib/python3.8/dist-packages/pandas/plotting/_matplotlib/__init__.py\u001b[0m in \u001b[0;36mplot\u001b[0;34m(data, kind, **kwargs)\u001b[0m\n\u001b[1;32m     69\u001b[0m             \u001b[0mkwargs\u001b[0m\u001b[0;34m[\u001b[0m\u001b[0;34m\"ax\"\u001b[0m\u001b[0;34m]\u001b[0m \u001b[0;34m=\u001b[0m \u001b[0mgetattr\u001b[0m\u001b[0;34m(\u001b[0m\u001b[0max\u001b[0m\u001b[0;34m,\u001b[0m \u001b[0;34m\"left_ax\"\u001b[0m\u001b[0;34m,\u001b[0m \u001b[0max\u001b[0m\u001b[0;34m)\u001b[0m\u001b[0;34m\u001b[0m\u001b[0;34m\u001b[0m\u001b[0m\n\u001b[1;32m     70\u001b[0m     \u001b[0mplot_obj\u001b[0m \u001b[0;34m=\u001b[0m \u001b[0mPLOT_CLASSES\u001b[0m\u001b[0;34m[\u001b[0m\u001b[0mkind\u001b[0m\u001b[0;34m]\u001b[0m\u001b[0;34m(\u001b[0m\u001b[0mdata\u001b[0m\u001b[0;34m,\u001b[0m \u001b[0;34m**\u001b[0m\u001b[0mkwargs\u001b[0m\u001b[0;34m)\u001b[0m\u001b[0;34m\u001b[0m\u001b[0;34m\u001b[0m\u001b[0m\n\u001b[0;32m---> 71\u001b[0;31m     \u001b[0mplot_obj\u001b[0m\u001b[0;34m.\u001b[0m\u001b[0mgenerate\u001b[0m\u001b[0;34m(\u001b[0m\u001b[0;34m)\u001b[0m\u001b[0;34m\u001b[0m\u001b[0;34m\u001b[0m\u001b[0m\n\u001b[0m\u001b[1;32m     72\u001b[0m     \u001b[0mplot_obj\u001b[0m\u001b[0;34m.\u001b[0m\u001b[0mdraw\u001b[0m\u001b[0;34m(\u001b[0m\u001b[0;34m)\u001b[0m\u001b[0;34m\u001b[0m\u001b[0;34m\u001b[0m\u001b[0m\n\u001b[1;32m     73\u001b[0m     \u001b[0;32mreturn\u001b[0m \u001b[0mplot_obj\u001b[0m\u001b[0;34m.\u001b[0m\u001b[0mresult\u001b[0m\u001b[0;34m\u001b[0m\u001b[0;34m\u001b[0m\u001b[0m\n",
            "\u001b[0;32m/usr/local/lib/python3.8/dist-packages/pandas/plotting/_matplotlib/core.py\u001b[0m in \u001b[0;36mgenerate\u001b[0;34m(self)\u001b[0m\n\u001b[1;32m    286\u001b[0m         \u001b[0mself\u001b[0m\u001b[0;34m.\u001b[0m\u001b[0m_compute_plot_data\u001b[0m\u001b[0;34m(\u001b[0m\u001b[0;34m)\u001b[0m\u001b[0;34m\u001b[0m\u001b[0;34m\u001b[0m\u001b[0m\n\u001b[1;32m    287\u001b[0m         \u001b[0mself\u001b[0m\u001b[0;34m.\u001b[0m\u001b[0m_setup_subplots\u001b[0m\u001b[0;34m(\u001b[0m\u001b[0;34m)\u001b[0m\u001b[0;34m\u001b[0m\u001b[0;34m\u001b[0m\u001b[0m\n\u001b[0;32m--> 288\u001b[0;31m         \u001b[0mself\u001b[0m\u001b[0;34m.\u001b[0m\u001b[0m_make_plot\u001b[0m\u001b[0;34m(\u001b[0m\u001b[0;34m)\u001b[0m\u001b[0;34m\u001b[0m\u001b[0;34m\u001b[0m\u001b[0m\n\u001b[0m\u001b[1;32m    289\u001b[0m         \u001b[0mself\u001b[0m\u001b[0;34m.\u001b[0m\u001b[0m_add_table\u001b[0m\u001b[0;34m(\u001b[0m\u001b[0;34m)\u001b[0m\u001b[0;34m\u001b[0m\u001b[0;34m\u001b[0m\u001b[0m\n\u001b[1;32m    290\u001b[0m         \u001b[0mself\u001b[0m\u001b[0;34m.\u001b[0m\u001b[0m_make_legend\u001b[0m\u001b[0;34m(\u001b[0m\u001b[0;34m)\u001b[0m\u001b[0;34m\u001b[0m\u001b[0;34m\u001b[0m\u001b[0m\n",
            "\u001b[0;32m/usr/local/lib/python3.8/dist-packages/pandas/plotting/_matplotlib/core.py\u001b[0m in \u001b[0;36m_make_plot\u001b[0;34m(self)\u001b[0m\n\u001b[1;32m   1069\u001b[0m             \u001b[0mlabel\u001b[0m \u001b[0;34m=\u001b[0m \u001b[0;32mNone\u001b[0m\u001b[0;34m\u001b[0m\u001b[0;34m\u001b[0m\u001b[0m\n\u001b[1;32m   1070\u001b[0m         scatter = ax.scatter(\n\u001b[0;32m-> 1071\u001b[0;31m             \u001b[0mdata\u001b[0m\u001b[0;34m[\u001b[0m\u001b[0mx\u001b[0m\u001b[0;34m]\u001b[0m\u001b[0;34m.\u001b[0m\u001b[0mvalues\u001b[0m\u001b[0;34m,\u001b[0m\u001b[0;34m\u001b[0m\u001b[0;34m\u001b[0m\u001b[0m\n\u001b[0m\u001b[1;32m   1072\u001b[0m             \u001b[0mdata\u001b[0m\u001b[0;34m[\u001b[0m\u001b[0my\u001b[0m\u001b[0;34m]\u001b[0m\u001b[0;34m.\u001b[0m\u001b[0mvalues\u001b[0m\u001b[0;34m,\u001b[0m\u001b[0;34m\u001b[0m\u001b[0;34m\u001b[0m\u001b[0m\n\u001b[1;32m   1073\u001b[0m             \u001b[0mc\u001b[0m\u001b[0;34m=\u001b[0m\u001b[0mc_values\u001b[0m\u001b[0;34m,\u001b[0m\u001b[0;34m\u001b[0m\u001b[0;34m\u001b[0m\u001b[0m\n",
            "\u001b[0;32m/usr/local/lib/python3.8/dist-packages/pandas/core/frame.py\u001b[0m in \u001b[0;36m__getitem__\u001b[0;34m(self, key)\u001b[0m\n\u001b[1;32m   3456\u001b[0m             \u001b[0;32mif\u001b[0m \u001b[0mself\u001b[0m\u001b[0;34m.\u001b[0m\u001b[0mcolumns\u001b[0m\u001b[0;34m.\u001b[0m\u001b[0mnlevels\u001b[0m \u001b[0;34m>\u001b[0m \u001b[0;36m1\u001b[0m\u001b[0;34m:\u001b[0m\u001b[0;34m\u001b[0m\u001b[0;34m\u001b[0m\u001b[0m\n\u001b[1;32m   3457\u001b[0m                 \u001b[0;32mreturn\u001b[0m \u001b[0mself\u001b[0m\u001b[0;34m.\u001b[0m\u001b[0m_getitem_multilevel\u001b[0m\u001b[0;34m(\u001b[0m\u001b[0mkey\u001b[0m\u001b[0;34m)\u001b[0m\u001b[0;34m\u001b[0m\u001b[0;34m\u001b[0m\u001b[0m\n\u001b[0;32m-> 3458\u001b[0;31m             \u001b[0mindexer\u001b[0m \u001b[0;34m=\u001b[0m \u001b[0mself\u001b[0m\u001b[0;34m.\u001b[0m\u001b[0mcolumns\u001b[0m\u001b[0;34m.\u001b[0m\u001b[0mget_loc\u001b[0m\u001b[0;34m(\u001b[0m\u001b[0mkey\u001b[0m\u001b[0;34m)\u001b[0m\u001b[0;34m\u001b[0m\u001b[0;34m\u001b[0m\u001b[0m\n\u001b[0m\u001b[1;32m   3459\u001b[0m             \u001b[0;32mif\u001b[0m \u001b[0mis_integer\u001b[0m\u001b[0;34m(\u001b[0m\u001b[0mindexer\u001b[0m\u001b[0;34m)\u001b[0m\u001b[0;34m:\u001b[0m\u001b[0;34m\u001b[0m\u001b[0;34m\u001b[0m\u001b[0m\n\u001b[1;32m   3460\u001b[0m                 \u001b[0mindexer\u001b[0m \u001b[0;34m=\u001b[0m \u001b[0;34m[\u001b[0m\u001b[0mindexer\u001b[0m\u001b[0;34m]\u001b[0m\u001b[0;34m\u001b[0m\u001b[0;34m\u001b[0m\u001b[0m\n",
            "\u001b[0;32m/usr/local/lib/python3.8/dist-packages/pandas/core/indexes/base.py\u001b[0m in \u001b[0;36mget_loc\u001b[0;34m(self, key, method, tolerance)\u001b[0m\n\u001b[1;32m   3361\u001b[0m                 \u001b[0;32mreturn\u001b[0m \u001b[0mself\u001b[0m\u001b[0;34m.\u001b[0m\u001b[0m_engine\u001b[0m\u001b[0;34m.\u001b[0m\u001b[0mget_loc\u001b[0m\u001b[0;34m(\u001b[0m\u001b[0mcasted_key\u001b[0m\u001b[0;34m)\u001b[0m\u001b[0;34m\u001b[0m\u001b[0;34m\u001b[0m\u001b[0m\n\u001b[1;32m   3362\u001b[0m             \u001b[0;32mexcept\u001b[0m \u001b[0mKeyError\u001b[0m \u001b[0;32mas\u001b[0m \u001b[0merr\u001b[0m\u001b[0;34m:\u001b[0m\u001b[0;34m\u001b[0m\u001b[0;34m\u001b[0m\u001b[0m\n\u001b[0;32m-> 3363\u001b[0;31m                 \u001b[0;32mraise\u001b[0m \u001b[0mKeyError\u001b[0m\u001b[0;34m(\u001b[0m\u001b[0mkey\u001b[0m\u001b[0;34m)\u001b[0m \u001b[0;32mfrom\u001b[0m \u001b[0merr\u001b[0m\u001b[0;34m\u001b[0m\u001b[0;34m\u001b[0m\u001b[0m\n\u001b[0m\u001b[1;32m   3364\u001b[0m \u001b[0;34m\u001b[0m\u001b[0m\n\u001b[1;32m   3365\u001b[0m         \u001b[0;32mif\u001b[0m \u001b[0mis_scalar\u001b[0m\u001b[0;34m(\u001b[0m\u001b[0mkey\u001b[0m\u001b[0;34m)\u001b[0m \u001b[0;32mand\u001b[0m \u001b[0misna\u001b[0m\u001b[0;34m(\u001b[0m\u001b[0mkey\u001b[0m\u001b[0;34m)\u001b[0m \u001b[0;32mand\u001b[0m \u001b[0;32mnot\u001b[0m \u001b[0mself\u001b[0m\u001b[0;34m.\u001b[0m\u001b[0mhasnans\u001b[0m\u001b[0;34m:\u001b[0m\u001b[0;34m\u001b[0m\u001b[0;34m\u001b[0m\u001b[0m\n",
            "\u001b[0;31mKeyError\u001b[0m: 'Fecha_de_modficacion'"
          ]
        },
        {
          "output_type": "display_data",
          "data": {
            "text/plain": [
              "<Figure size 432x288 with 1 Axes>"
            ],
            "image/png": "[encoded data removed]"
          },
          "metadata": {
            "needs_background": "light"
          }
        }
      ]
    },
    {
      "cell_type": "code",
      "source": [
        "df.describe\n"
      ],
      "metadata": {
        "colab": {
          "base_uri": "https://localhost:8080/"
        },
        "id": "w_gz2PFQz5Qq",
        "outputId": "a1fc1816-a4fe-4789-8554-ad86432a7d0a"
      },
      "execution_count": null,
      "outputs": [
        {
          "output_type": "execute_result",
          "data": {
            "text/plain": [
              "<bound method NDFrame.describe of                           ID               Tipo  \\\n",
              "date                                              \n",
              "2022-12-30 15:19:00  1165252       Extracciones   \n",
              "2022-12-30 15:18:00  1165248       Extracciones   \n",
              "2022-12-30 15:56:00  1165245     Gestión de KDE   \n",
              "2022-12-30 10:25:00  1165034       Herramientas   \n",
              "2022-12-29 17:44:00  1164938       Herramientas   \n",
              "...                      ...                ...   \n",
              "2016-09-01 16:31:00   380375  Permisos Datapool   \n",
              "2016-11-09 10:39:00   380373    Modelo de Datos   \n",
              "2016-09-14 13:44:00   378538  Permisos Datapool   \n",
              "2016-09-14 12:53:00   378533    Modelo de Datos   \n",
              "2016-09-14 13:44:00   378317    Modelo de Datos   \n",
              "\n",
              "                                       Categoria_Final   Fecha_de_creacion  \\\n",
              "date                                                                         \n",
              "2022-12-30 15:19:00                Extracción de datos 2022-12-30 14:32:00   \n",
              "2022-12-30 15:18:00                Extracción de datos 2022-12-30 14:23:00   \n",
              "2022-12-30 15:56:00                     Gestión de KDE 2022-12-30 14:11:00   \n",
              "2022-12-30 10:25:00                  Uso de QLIK SENSE 2022-12-30 01:09:00   \n",
              "2022-12-29 17:44:00                  Uso de QLIK SENSE 2022-12-29 17:17:00   \n",
              "...                                                ...                 ...   \n",
              "2016-09-01 16:31:00                  Permisos Datapool 2016-09-01 15:01:00   \n",
              "2016-11-09 10:39:00  Consulta sobre el modelo de datos 2016-09-01 15:00:00   \n",
              "2016-09-14 13:44:00                  Permisos Datapool 2016-08-24 09:31:00   \n",
              "2016-09-14 12:53:00  Consulta sobre el modelo de datos 2016-08-24 09:16:00   \n",
              "2016-09-14 13:44:00  Consulta sobre el modelo de datos 2016-08-23 10:22:00   \n",
              "\n",
              "                    Categoria_Final Fecha_de_modificacion  Year  Month  Day  \\\n",
              "date                                                                          \n",
              "2022-12-30 15:19:00             NaT   2022-12-30 15:19:00  2022     12   30   \n",
              "2022-12-30 15:18:00             NaT   2022-12-30 15:18:00  2022     12   30   \n",
              "2022-12-30 15:56:00             NaT   2022-12-30 15:56:00  2022     12   30   \n",
              "2022-12-30 10:25:00             NaT   2022-12-30 10:25:00  2022     12   30   \n",
              "2022-12-29 17:44:00             NaT   2022-12-29 17:44:00  2022     12   29   \n",
              "...                             ...                   ...   ...    ...  ...   \n",
              "2016-09-01 16:31:00             NaT   2016-09-01 16:31:00  2016      9    1   \n",
              "2016-11-09 10:39:00             NaT   2016-11-09 10:39:00  2016     11    9   \n",
              "2016-09-14 13:44:00             NaT   2016-09-14 13:44:00  2016      9   14   \n",
              "2016-09-14 12:53:00             NaT   2016-09-14 12:53:00  2016      9   14   \n",
              "2016-09-14 13:44:00             NaT   2016-09-14 13:44:00  2016      9   14   \n",
              "\n",
              "                     weekday  month  \n",
              "date                                 \n",
              "2022-12-30 15:19:00        4     12  \n",
              "2022-12-30 15:18:00        4     12  \n",
              "2022-12-30 15:56:00        4     12  \n",
              "2022-12-30 10:25:00        4     12  \n",
              "2022-12-29 17:44:00        3     12  \n",
              "...                      ...    ...  \n",
              "2016-09-01 16:31:00        3      9  \n",
              "2016-11-09 10:39:00        2     11  \n",
              "2016-09-14 13:44:00        2      9  \n",
              "2016-09-14 12:53:00        2      9  \n",
              "2016-09-14 13:44:00        2      9  \n",
              "\n",
              "[16041 rows x 11 columns]>"
            ]
          },
          "metadata": {},
          "execution_count": 39
        }
      ]
    },
    {
      "cell_type": "code",
      "source": [
        "yearly_counts.describe\n"
      ],
      "metadata": {
        "colab": {
          "base_uri": "https://localhost:8080/"
        },
        "id": "XrO77BVb4uJu",
        "outputId": "b4582ce0-d081-4e7c-e32b-0ff234274fce"
      },
      "execution_count": null,
      "outputs": [
        {
          "output_type": "execute_result",
          "data": {
            "text/plain": [
              "<bound method NDFrame.describe of    Year  count\n",
              "0  2016    155\n",
              "1  2017   1965\n",
              "2  2018   2242\n",
              "3  2019   2108\n",
              "4  2020   2192\n",
              "5  2021   3424\n",
              "6  2022   3955>"
            ]
          },
          "metadata": {},
          "execution_count": 42
        }
      ]
    },
    {
      "cell_type": "code",
      "source": [
        "monthly_counts.describe"
      ],
      "metadata": {
        "colab": {
          "base_uri": "https://localhost:8080/"
        },
        "id": "k0A1c10aB05f",
        "outputId": "a5b83286-ff58-4e3a-9011-e973e886397c"
      },
      "execution_count": null,
      "outputs": [
        {
          "output_type": "execute_result",
          "data": {
            "text/plain": [
              "<bound method NDFrame.describe of     month  count\n",
              "0       1    976\n",
              "1       2   1044\n",
              "2       3   1467\n",
              "3       4   1192\n",
              "4       5   1298\n",
              "5       6   1268\n",
              "6       7   1318\n",
              "7       8   1367\n",
              "8       9   1745\n",
              "9      10   1424\n",
              "10     11   1558\n",
              "11     12   1384>"
            ]
          },
          "metadata": {},
          "execution_count": 43
        }
      ]
    },
    {
      "cell_type": "code",
      "source": [
        "FM_counts.describe"
      ],
      "metadata": {
        "colab": {
          "base_uri": "https://localhost:8080/"
        },
        "id": "eqmHC7XBB65y",
        "outputId": "790cccdb-fc02-4d1e-f748-e7a1186709d9"
      },
      "execution_count": null,
      "outputs": [
        {
          "output_type": "execute_result",
          "data": {
            "text/plain": [
              "<bound method NDFrame.describe of       Fecha_de_modificacion  count\n",
              "0       2016-09-01 16:14:00      1\n",
              "1       2016-09-01 16:31:00      1\n",
              "2       2016-09-14 12:53:00      1\n",
              "3       2016-09-14 13:44:00      2\n",
              "4       2016-09-15 14:40:00      1\n",
              "...                     ...    ...\n",
              "13524   2022-12-30 15:19:00      1\n",
              "13525   2022-12-30 15:56:00      2\n",
              "13526   2022-12-30 16:49:00      1\n",
              "13527   2022-12-30 17:35:00      1\n",
              "13528   2022-12-31 09:50:00      1\n",
              "\n",
              "[13529 rows x 2 columns]>"
            ]
          },
          "metadata": {},
          "execution_count": 44
        }
      ]
    },
    {
      "cell_type": "code",
      "source": [
        "data_2016 = df[df.Fecha_de_modificacion < '2017-01-01 00:00']\n",
        "data_2017 = df[(df.Fecha_de_modificacion < '2018-01-01 00:00') & (df.Fecha_de_modificacion > '2017-01-01 00:00')]\n",
        "data_2018 = df[(df.Fecha_de_modificacion < '2019-01-01 00:00') & (df.Fecha_de_modificacion > '2018-01-01 00:00')]\n",
        "data_2019 = df[(df.Fecha_de_modificacion < '2020-01-01 00:00') & (df.Fecha_de_modificacion > '2019-01-01 00:00')]\n",
        "data_2020 = df[(df.Fecha_de_modificacion < '2021-01-01 00:00') & (df.Fecha_de_modificacion > '2020-01-01 00:00')]\n",
        "data_2021 = df[(df.Fecha_de_modificacion < '2022-01-01 00:00') & (df.Fecha_de_modificacion > '2021-01-01 00:00')]\n",
        "data_2022 = df[(df.Fecha_de_modificacion < '2023-01-01 00:00') & (df.Fecha_de_modificacion > '2022-01-01 00:00')]\n",
        "data_2016"
      ],
      "metadata": {
        "colab": {
          "base_uri": "https://localhost:8080/"
        },
        "id": "YgxPjll9swkq",
        "outputId": "3a72a0b4-faa1-42b6-85f4-196c9e68f555"
      },
      "execution_count": 26,
      "outputs": [
        {
          "output_type": "execute_result",
          "data": {
            "text/plain": [
              "15814   2016-12-27 10:34:00\n",
              "15815   2016-12-27 10:34:00\n",
              "15816   2016-12-27 10:34:00\n",
              "15822   2016-12-22 17:12:00\n",
              "15828   2016-12-21 15:43:00\n",
              "                ...        \n",
              "16036   2016-09-01 15:01:00\n",
              "16037   2016-09-01 15:00:00\n",
              "16038   2016-08-24 09:31:00\n",
              "16039   2016-08-24 09:16:00\n",
              "16040   2016-08-23 10:22:00\n",
              "Name: Fecha_de_creacion, Length: 155, dtype: datetime64[ns]"
            ]
          },
          "metadata": {},
          "execution_count": 26
        }
      ]
    },
    {
      "cell_type": "code",
      "source": [
        "years = [2016,2017,2018,2019,2020,2021,2022]\n"
      ],
      "metadata": {
        "colab": {
          "base_uri": "https://localhost:8080/"
        },
        "id": "K2UGzsYlAkvf",
        "outputId": "7cc8d3e0-3b06-47ed-a158-aea09e205ca8"
      },
      "execution_count": 17,
      "outputs": [
        {
          "output_type": "execute_result",
          "data": {
            "text/plain": [
              "[2016, 2017, 2018, 2019, 2020, 2021, 2022]"
            ]
          },
          "metadata": {},
          "execution_count": 17
        }
      ]
    },
    {
      "cell_type": "code",
      "source": [
        "counts_2016 = data_2016.groupby(['Month']).size().reset_index(name='count')\n",
        "counts_2017 = data_2017.groupby(['Month']).size().reset_index(name='count')\n",
        "counts_2018 = data_2018.groupby(['Month']).size().reset_index(name='count')\n",
        "counts_2019 = data_2019.groupby(['Month']).size().reset_index(name='count')\n",
        "counts_2020 = data_2020.groupby(['Month']).size().reset_index(name='count')\n",
        "counts_2021 = data_2021.groupby(['Month']).size().reset_index(name='count')\n",
        "counts_2022 = data_2022.groupby(['Month']).size().reset_index(name='count')\n",
        "counts_2022"
      ],
      "metadata": {
        "colab": {
          "base_uri": "https://localhost:8080/",
          "height": 425
        },
        "id": "1QgI5cPLAwMm",
        "outputId": "83d2c7ce-0143-462d-ed15-d403ff5d89c3"
      },
      "execution_count": 30,
      "outputs": [
        {
          "output_type": "execute_result",
          "data": {
            "text/plain": [
              "    Month  count\n",
              "0       1    300\n",
              "1       2    321\n",
              "2       3    400\n",
              "3       4    311\n",
              "4       5    394\n",
              "5       6    354\n",
              "6       7    248\n",
              "7       8    167\n",
              "8       9    285\n",
              "9      10    331\n",
              "10     11    464\n",
              "11     12    380"
            ],
            "text/html": [
              "\n",
              "  <div id=\"df-3840ac51-ec89-4f8c-b0d4-7d2f1fd450bc\">\n",
              "    <div class=\"colab-df-container\">\n",
              "      <div>\n",
              "<style scoped>\n",
              "    .dataframe tbody tr th:only-of-type {\n",
              "        vertical-align: middle;\n",
              "    }\n",
              "\n",
              "    .dataframe tbody tr th {\n",
              "        vertical-align: top;\n",
              "    }\n",
              "\n",
              "    .dataframe thead th {\n",
              "        text-align: right;\n",
              "    }\n",
              "</style>\n",
              "<table border=\"1\" class=\"dataframe\">\n",
              "  <thead>\n",
              "    <tr style=\"text-align: right;\">\n",
              "      <th></th>\n",
              "      <th>Month</th>\n",
              "      <th>count</th>\n",
              "    </tr>\n",
              "  </thead>\n",
              "  <tbody>\n",
              "    <tr>\n",
              "      <th>0</th>\n",
              "      <td>1</td>\n",
              "      <td>300</td>\n",
              "    </tr>\n",
              "    <tr>\n",
              "      <th>1</th>\n",
              "      <td>2</td>\n",
              "      <td>321</td>\n",
              "    </tr>\n",
              "    <tr>\n",
              "      <th>2</th>\n",
              "      <td>3</td>\n",
              "      <td>400</td>\n",
              "    </tr>\n",
              "    <tr>\n",
              "      <th>3</th>\n",
              "      <td>4</td>\n",
              "      <td>311</td>\n",
              "    </tr>\n",
              "    <tr>\n",
              "      <th>4</th>\n",
              "      <td>5</td>\n",
              "      <td>394</td>\n",
              "    </tr>\n",
              "    <tr>\n",
              "      <th>5</th>\n",
              "      <td>6</td>\n",
              "      <td>354</td>\n",
              "    </tr>\n",
              "    <tr>\n",
              "      <th>6</th>\n",
              "      <td>7</td>\n",
              "      <td>248</td>\n",
              "    </tr>\n",
              "    <tr>\n",
              "      <th>7</th>\n",
              "      <td>8</td>\n",
              "      <td>167</td>\n",
              "    </tr>\n",
              "    <tr>\n",
              "      <th>8</th>\n",
              "      <td>9</td>\n",
              "      <td>285</td>\n",
              "    </tr>\n",
              "    <tr>\n",
              "      <th>9</th>\n",
              "      <td>10</td>\n",
              "      <td>331</td>\n",
              "    </tr>\n",
              "    <tr>\n",
              "      <th>10</th>\n",
              "      <td>11</td>\n",
              "      <td>464</td>\n",
              "    </tr>\n",
              "    <tr>\n",
              "      <th>11</th>\n",
              "      <td>12</td>\n",
              "      <td>380</td>\n",
              "    </tr>\n",
              "  </tbody>\n",
              "</table>\n",
              "</div>\n",
              "      <button class=\"colab-df-convert\" onclick=\"convertToInteractive('df-3840ac51-ec89-4f8c-b0d4-7d2f1fd450bc')\"\n",
              "              title=\"Convert this dataframe to an interactive table.\"\n",
              "              style=\"display:none;\">\n",
              "        \n",
              "  <svg xmlns=\"http://www.w3.org/2000/svg\" height=\"24px\"viewBox=\"0 0 24 24\"\n",
              "       width=\"24px\">\n",
              "    <path d=\"M0 0h24v24H0V0z\" fill=\"none\"/>\n",
              "    <path d=\"M18.56 5.44l.94 2.06.94-2.06 2.06-.94-2.06-.94-.94-2.06-.94 2.06-2.06.94zm-11 1L8.5 8.5l.94-2.06 2.06-.94-2.06-.94L8.5 2.5l-.94 2.06-2.06.94zm10 10l.94 2.06.94-2.06 2.06-.94-2.06-.94-.94-2.06-.94 2.06-2.06.94z\"/><path d=\"M17.41 7.96l-1.37-1.37c-.4-.4-.92-.59-1.43-.59-.52 0-1.04.2-1.43.59L10.3 9.45l-7.72 7.72c-.78.78-.78 2.05 0 2.83L4 21.41c.39.39.9.59 1.41.59.51 0 1.02-.2 1.41-.59l7.78-7.78 2.81-2.81c.8-.78.8-2.07 0-2.86zM5.41 20L4 18.59l7.72-7.72 1.47 1.35L5.41 20z\"/>\n",
              "  </svg>\n",
              "      </button>\n",
              "      \n",
              "  <style>\n",
              "    .colab-df-container {\n",
              "      display:flex;\n",
              "      flex-wrap:wrap;\n",
              "      gap: 12px;\n",
              "    }\n",
              "\n",
              "    .colab-df-convert {\n",
              "      background-color: #E8F0FE;\n",
              "      border: none;\n",
              "      border-radius: 50%;\n",
              "      cursor: pointer;\n",
              "      display: none;\n",
              "      fill: #1967D2;\n",
              "      height: 32px;\n",
              "      padding: 0 0 0 0;\n",
              "      width: 32px;\n",
              "    }\n",
              "\n",
              "    .colab-df-convert:hover {\n",
              "      background-color: #E2EBFA;\n",
              "      box-shadow: 0px 1px 2px rgba(60, 64, 67, 0.3), 0px 1px 3px 1px rgba(60, 64, 67, 0.15);\n",
              "      fill: #174EA6;\n",
              "    }\n",
              "\n",
              "    [theme=dark] .colab-df-convert {\n",
              "      background-color: #3B4455;\n",
              "      fill: #D2E3FC;\n",
              "    }\n",
              "\n",
              "    [theme=dark] .colab-df-convert:hover {\n",
              "      background-color: #434B5C;\n",
              "      box-shadow: 0px 1px 3px 1px rgba(0, 0, 0, 0.15);\n",
              "      filter: drop-shadow(0px 1px 2px rgba(0, 0, 0, 0.3));\n",
              "      fill: #FFFFFF;\n",
              "    }\n",
              "  </style>\n",
              "\n",
              "      <script>\n",
              "        const buttonEl =\n",
              "          document.querySelector('#df-3840ac51-ec89-4f8c-b0d4-7d2f1fd450bc button.colab-df-convert');\n",
              "        buttonEl.style.display =\n",
              "          google.colab.kernel.accessAllowed ? 'block' : 'none';\n",
              "\n",
              "        async function convertToInteractive(key) {\n",
              "          const element = document.querySelector('#df-3840ac51-ec89-4f8c-b0d4-7d2f1fd450bc');\n",
              "          const dataTable =\n",
              "            await google.colab.kernel.invokeFunction('convertToInteractive',\n",
              "                                                     [key], {});\n",
              "          if (!dataTable) return;\n",
              "\n",
              "          const docLinkHtml = 'Like what you see? Visit the ' +\n",
              "            '<a target=\"_blank\" href=https://colab.research.google.com/notebooks/data_table.ipynb>data table notebook</a>'\n",
              "            + ' to learn more about interactive tables.';\n",
              "          element.innerHTML = '';\n",
              "          dataTable['output_type'] = 'display_data';\n",
              "          await google.colab.output.renderOutput(dataTable, element);\n",
              "          const docLink = document.createElement('div');\n",
              "          docLink.innerHTML = docLinkHtml;\n",
              "          element.appendChild(docLink);\n",
              "        }\n",
              "      </script>\n",
              "    </div>\n",
              "  </div>\n",
              "  "
            ]
          },
          "metadata": {},
          "execution_count": 30
        }
      ]
    },
    {
      "cell_type": "code",
      "source": [
        "counts_2017.plot(x='Month', y='count',kind = 'bar')\n",
        "\n",
        "plt.xlabel('Mes')\n",
        "plt.ylabel('Numero de peticiones')\n",
        "plt.title('Numero de peticiones en 2017')\n",
        "\n",
        "plt.show()"
      ],
      "metadata": {
        "colab": {
          "base_uri": "https://localhost:8080/",
          "height": 298
        },
        "id": "YV0cky0fDvxR",
        "outputId": "d385de3c-fd1e-4097-9e42-91c4481bbb1c"
      },
      "execution_count": 36,
      "outputs": [
        {
          "output_type": "display_data",
          "data": {
            "text/plain": [
              "<Figure size 432x288 with 1 Axes>"
            ],
            "image/png": "[encoded data removed]"
          },
          "metadata": {
            "needs_background": "light"
          }
        }
      ]
    },
    {
      "cell_type": "code",
      "source": [
        "\"\"\"\n",
        "counts_2016.plot(x='Month', y='count', kind='line', color='red', ax=ax, alpha=0.7,marker = 'o')\n",
        "\n",
        "\"\"\"\n",
        "plt.figure(figsize=(100, 80))\n",
        "\n",
        "\n",
        "ax = counts_2017.plot(x='Month', y='count', kind='line', color='blue',alpha=0.7,marker = 'o')\n",
        "counts_2018.plot(x='Month', y='count', kind='line', color='red', ax=ax, alpha=0.7,marker = 'o')\n",
        "counts_2019.plot(x='Month', y='count', kind='line', color='green', ax=ax, alpha=0.7,marker = 'o')\n",
        "counts_2020.plot(x='Month', y='count', kind='line', color='yellow', ax=ax, alpha=0.7,marker = 'o')\n",
        "counts_2021.plot(x='Month', y='count', kind='line', color='black', ax=ax, alpha=0.7,marker = 'o')\n",
        "counts_2022.plot(x='Month', y='count', kind='line', color='purple', ax=ax, alpha=0.7,marker = 'o')\n",
        "\n",
        "ax.set_xlabel('Mes')\n",
        "ax.set_ylabel('Número de peticiones')\n",
        "ax.set_title('Número de peticiones por mes')\n",
        "ax.legend(['2017','2018','2019','2020','2021','2022'])\n",
        "\n",
        "\n",
        "plt.show()"
      ],
      "metadata": {
        "colab": {
          "base_uri": "https://localhost:8080/",
          "height": 313
        },
        "id": "9N8WDiU4Fz2A",
        "outputId": "574540e0-d1d7-4184-bb2f-08d8810c85bf"
      },
      "execution_count": 63,
      "outputs": [
        {
          "output_type": "display_data",
          "data": {
            "text/plain": [
              "<Figure size 7200x5760 with 0 Axes>"
            ]
          },
          "metadata": {}
        },
        {
          "output_type": "display_data",
          "data": {
            "text/plain": [
              "<Figure size 432x288 with 1 Axes>"
            ],
            "image/png": "[encoded data removed]"
          },
          "metadata": {
            "needs_background": "light"
          }
        }
      ]
    },
    {
      "cell_type": "code",
      "source": [
        "\n"
      ],
      "metadata": {
        "colab": {
          "base_uri": "https://localhost:8080/",
          "height": 135
        },
        "id": "Tj5v-j6cIiJ9",
        "outputId": "abed60c6-d65e-44f7-bf43-378d28612541"
      },
      "execution_count": 49,
      "outputs": [
        {
          "output_type": "error",
          "ename": "SyntaxError",
          "evalue": "ignored",
          "traceback": [
            "\u001b[0;36m  File \u001b[0;32m\"<ipython-input-49-f284d1a30cd8>\"\u001b[0;36m, line \u001b[0;32m2\u001b[0m\n\u001b[0;31m    hold on\u001b[0m\n\u001b[0m         ^\u001b[0m\n\u001b[0;31mSyntaxError\u001b[0m\u001b[0;31m:\u001b[0m invalid syntax\n"
          ]
        }
      ]
    }
  ]
}