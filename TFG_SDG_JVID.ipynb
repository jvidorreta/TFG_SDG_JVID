{
  "nbformat": 4,
  "nbformat_minor": 0,
  "metadata": {
    "colab": {
      "provenance": [],
      "mount_file_id": "1IHN9obw-BkVM4B1XeCtFt_uCnsYbDhkI",
      "authorship_tag": "ABX9TyOKF1ZVHuJGopMAEMBg8KYX",
      "include_colab_link": true
    },
    "kernelspec": {
      "name": "python3",
      "display_name": "Python 3"
    },
    "language_info": {
      "name": "python"
    }
  },
  "cells": [
    {
      "cell_type": "markdown",
      "metadata": {
        "id": "view-in-github",
        "colab_type": "text"
      },
      "source": [
        "<a href=\"https://colab.research.google.com/github/jvidorreta/TFG_SDG_JVID/blob/dev/TFG_SDG_JVID.ipynb\" target=\"_parent\"><img src=\"https://colab.research.google.com/assets/colab-badge.svg\" alt=\"Open In Colab\"/></a>"
      ]
    },
    {
      "cell_type": "code",
      "execution_count": 1,
      "metadata": {
        "id": "07I3PTxJB6vO"
      },
      "outputs": [],
      "source": [
        "import pandas as pd\n",
        "import numpy as np\n",
        "import matplotlib.pyplot as plt\n",
        "\n",
        "\n",
        "file_path = '/content/drive/MyDrive/Colab Notebooks/BBDD-Local.xlsx'\n",
        "\n",
        "df = pd.read_excel(file_path,sheet_name='C_BBDD')"
      ]
    },
    {
      "cell_type": "code",
      "source": [
        "df.info() #muestra información sobre el tipo de datos de las columnas, el número de filas y cuántos valores nulos hay en el DataFrame."
      ],
      "metadata": {
        "colab": {
          "base_uri": "https://localhost:8080/"
        },
        "id": "0Z6A8-IfOKDR",
        "outputId": "1a8e8e84-79eb-4f51-adbc-691093627629"
      },
      "execution_count": 2,
      "outputs": [
        {
          "output_type": "stream",
          "name": "stdout",
          "text": [
            "<class 'pandas.core.frame.DataFrame'>\n",
            "RangeIndex: 16041 entries, 0 to 16040\n",
            "Data columns (total 10 columns):\n",
            " #   Column                    Non-Null Count  Dtype         \n",
            "---  ------                    --------------  -----         \n",
            " 0   ID                        16041 non-null  int64         \n",
            " 1   Tipo                      16041 non-null  object        \n",
            " 2   Categoría                 1147 non-null   object        \n",
            " 3   Categoría.1               7555 non-null   object        \n",
            " 4   Categoría.2               3392 non-null   object        \n",
            " 5   Categoría Final           16041 non-null  object        \n",
            " 6   Fecha de creación         16041 non-null  datetime64[ns]\n",
            " 7   Fecha solución propuesta  14606 non-null  datetime64[ns]\n",
            " 8   Subcategoría              7555 non-null   object        \n",
            " 9   Fecha de modificación     16041 non-null  datetime64[ns]\n",
            "dtypes: datetime64[ns](3), int64(1), object(6)\n",
            "memory usage: 1.2+ MB\n"
          ]
        }
      ]
    },
    {
      "cell_type": "markdown",
      "source": [
        "# Variables \n",
        "**ID:** Número de usuario que realiza la petición\n",
        "\n",
        "**Tipo:** Sección a la que está relacionada la petición\n",
        "\n",
        "**Categoría:** Subcategoría del tipo más concreto\n",
        "\n",
        "**Categoría Final:** Aquí hemos agrupado en una única columna las 3 columnas de Categoría y la de tipo ya que solo habrá un único valor en estas 4 columnas, esta columna será la que se utilice para el analisis.\n",
        "\n",
        "**Fecha de creación:** Fecha y hora en la cual se crea la petición.\n",
        "\n",
        "**Fecha solución propuesta:** Fecha y hora en la que se estima que se va a resolver la petición.\n",
        "\n",
        "**Subcategoría:** Subcategoría asocida a la que hace la petición.\n",
        "\n",
        "**Fecha de modificación:** Fecha y hora en la cual se resuelve la petición.\n",
        "\n"
      ],
      "metadata": {
        "id": "m-yDvUZmF746"
      }
    },
    {
      "cell_type": "code",
      "source": [
        "#Cambiamos el nombre de algunas columnas para poder trabajar con ellas mas adelante\n",
        "\n",
        "df.rename(columns={'Categoría Final': 'Categoria_Final'}, inplace=True)\n",
        "df.rename(columns={'Fecha de creación': 'Fecha_de_creacion'}, inplace=True)\n",
        "df.rename(columns={'Fecha solución propuesta': 'Categoria_Final'}, inplace=True)\n",
        "df.rename(columns={'Fecha de modificación': 'Fecha_de_modificacion'}, inplace=True)\n",
        "\n",
        "#El inplace = True hace que las modificaciones se hagan sobr el df actual en vez de crear un \n",
        "#nuevo df con las nuevas modificaciones\n"
      ],
      "metadata": {
        "id": "pRXAsjCRmg-g"
      },
      "execution_count": 4,
      "outputs": []
    },
    {
      "cell_type": "code",
      "source": [
        "print(df.shape) #Muestra el nº de filas y columnas en la BBDD"
      ],
      "metadata": {
        "id": "gKrrs_0NIJA_",
        "colab": {
          "base_uri": "https://localhost:8080/"
        },
        "outputId": "b7e7b3ba-fb12-415d-9fed-c9d8aecf1752"
      },
      "execution_count": 5,
      "outputs": [
        {
          "output_type": "stream",
          "name": "stdout",
          "text": [
            "(16041, 10)\n"
          ]
        }
      ]
    },
    {
      "cell_type": "code",
      "source": [
        "df.describe(include = 'all') #Muestra una descripción por columnas de la BBDD\n",
        "                           "
      ],
      "metadata": {
        "colab": {
          "base_uri": "https://localhost:8080/",
          "height": 643
        },
        "id": "Lkb3fGcINdbv",
        "outputId": "ded660d3-22df-415b-a600-3d16951172cd"
      },
      "execution_count": 6,
      "outputs": [
        {
          "output_type": "stream",
          "name": "stderr",
          "text": [
            "<ipython-input-6-71966d3f17ce>:1: FutureWarning: Treating datetime data as categorical rather than numeric in `.describe` is deprecated and will be removed in a future version of pandas. Specify `datetime_is_numeric=True` to silence this warning and adopt the future behavior now.\n",
            "  df.describe(include = 'all') #Muestra una descripción por columnas de la BBDD\n"
          ]
        },
        {
          "output_type": "execute_result",
          "data": {
            "text/plain": [
              "                  ID          Tipo            Categoría        Categoría.1  \\\n",
              "count   1.604100e+04         16041                 1147               7555   \n",
              "unique           NaN             7                    3                  6   \n",
              "top              NaN  Herramientas  Extracción de datos  Uso de QLIK SENSE   \n",
              "freq             NaN          7555                  774               3950   \n",
              "first            NaN           NaN                  NaN                NaN   \n",
              "last             NaN           NaN                  NaN                NaN   \n",
              "mean    8.369551e+05           NaN                  NaN                NaN   \n",
              "std     2.238160e+05           NaN                  NaN                NaN   \n",
              "min     3.783170e+05           NaN                  NaN                NaN   \n",
              "25%     6.351280e+05           NaN                  NaN                NaN   \n",
              "50%     8.832230e+05           NaN                  NaN                NaN   \n",
              "75%     1.028164e+06           NaN                  NaN                NaN   \n",
              "max     1.165252e+06           NaN                  NaN                NaN   \n",
              "\n",
              "                              Categoría.2    Categoria_Final  \\\n",
              "count                                3392              16041   \n",
              "unique                                  2                 15   \n",
              "top     Consulta sobre el modelo de datos  Uso de QLIK SENSE   \n",
              "freq                                 3077               3950   \n",
              "first                                 NaN                NaN   \n",
              "last                                  NaN                NaN   \n",
              "mean                                  NaN                NaN   \n",
              "std                                   NaN                NaN   \n",
              "min                                   NaN                NaN   \n",
              "25%                                   NaN                NaN   \n",
              "50%                                   NaN                NaN   \n",
              "75%                                   NaN                NaN   \n",
              "max                                   NaN                NaN   \n",
              "\n",
              "          Fecha_de_creacion      Categoria_Final Subcategoría  \\\n",
              "count                 16041                14606         7555   \n",
              "unique                15867                 1691           13   \n",
              "top     2016-12-27 10:34:00  2021-08-01 12:00:00      Accesos   \n",
              "freq                      3                  166         4634   \n",
              "first   2016-08-23 10:22:00  2016-09-16 12:00:00          NaN   \n",
              "last    2022-12-30 14:32:00  2022-12-30 12:00:00          NaN   \n",
              "mean                    NaN                  NaN          NaN   \n",
              "std                     NaN                  NaN          NaN   \n",
              "min                     NaN                  NaN          NaN   \n",
              "25%                     NaN                  NaN          NaN   \n",
              "50%                     NaN                  NaN          NaN   \n",
              "75%                     NaN                  NaN          NaN   \n",
              "max                     NaN                  NaN          NaN   \n",
              "\n",
              "       Fecha_de_modificacion  \n",
              "count                  16041  \n",
              "unique                 13529  \n",
              "top      2022-11-16 11:30:00  \n",
              "freq                      12  \n",
              "first    2016-09-01 16:14:00  \n",
              "last     2022-12-31 09:50:00  \n",
              "mean                     NaN  \n",
              "std                      NaN  \n",
              "min                      NaN  \n",
              "25%                      NaN  \n",
              "50%                      NaN  \n",
              "75%                      NaN  \n",
              "max                      NaN  "
            ],
            "text/html": [
              "\n",
              "  <div id=\"df-03ae2fc1-3efb-41f6-ba0e-ca38dffee0d3\">\n",
              "    <div class=\"colab-df-container\">\n",
              "      <div>\n",
              "<style scoped>\n",
              "    .dataframe tbody tr th:only-of-type {\n",
              "        vertical-align: middle;\n",
              "    }\n",
              "\n",
              "    .dataframe tbody tr th {\n",
              "        vertical-align: top;\n",
              "    }\n",
              "\n",
              "    .dataframe thead th {\n",
              "        text-align: right;\n",
              "    }\n",
              "</style>\n",
              "<table border=\"1\" class=\"dataframe\">\n",
              "  <thead>\n",
              "    <tr style=\"text-align: right;\">\n",
              "      <th></th>\n",
              "      <th>ID</th>\n",
              "      <th>Tipo</th>\n",
              "      <th>Categoría</th>\n",
              "      <th>Categoría.1</th>\n",
              "      <th>Categoría.2</th>\n",
              "      <th>Categoria_Final</th>\n",
              "      <th>Fecha_de_creacion</th>\n",
              "      <th>Categoria_Final</th>\n",
              "      <th>Subcategoría</th>\n",
              "      <th>Fecha_de_modificacion</th>\n",
              "    </tr>\n",
              "  </thead>\n",
              "  <tbody>\n",
              "    <tr>\n",
              "      <th>count</th>\n",
              "      <td>1.604100e+04</td>\n",
              "      <td>16041</td>\n",
              "      <td>1147</td>\n",
              "      <td>7555</td>\n",
              "      <td>3392</td>\n",
              "      <td>16041</td>\n",
              "      <td>16041</td>\n",
              "      <td>14606</td>\n",
              "      <td>7555</td>\n",
              "      <td>16041</td>\n",
              "    </tr>\n",
              "    <tr>\n",
              "      <th>unique</th>\n",
              "      <td>NaN</td>\n",
              "      <td>7</td>\n",
              "      <td>3</td>\n",
              "      <td>6</td>\n",
              "      <td>2</td>\n",
              "      <td>15</td>\n",
              "      <td>15867</td>\n",
              "      <td>1691</td>\n",
              "      <td>13</td>\n",
              "      <td>13529</td>\n",
              "    </tr>\n",
              "    <tr>\n",
              "      <th>top</th>\n",
              "      <td>NaN</td>\n",
              "      <td>Herramientas</td>\n",
              "      <td>Extracción de datos</td>\n",
              "      <td>Uso de QLIK SENSE</td>\n",
              "      <td>Consulta sobre el modelo de datos</td>\n",
              "      <td>Uso de QLIK SENSE</td>\n",
              "      <td>2016-12-27 10:34:00</td>\n",
              "      <td>2021-08-01 12:00:00</td>\n",
              "      <td>Accesos</td>\n",
              "      <td>2022-11-16 11:30:00</td>\n",
              "    </tr>\n",
              "    <tr>\n",
              "      <th>freq</th>\n",
              "      <td>NaN</td>\n",
              "      <td>7555</td>\n",
              "      <td>774</td>\n",
              "      <td>3950</td>\n",
              "      <td>3077</td>\n",
              "      <td>3950</td>\n",
              "      <td>3</td>\n",
              "      <td>166</td>\n",
              "      <td>4634</td>\n",
              "      <td>12</td>\n",
              "    </tr>\n",
              "    <tr>\n",
              "      <th>first</th>\n",
              "      <td>NaN</td>\n",
              "      <td>NaN</td>\n",
              "      <td>NaN</td>\n",
              "      <td>NaN</td>\n",
              "      <td>NaN</td>\n",
              "      <td>NaN</td>\n",
              "      <td>2016-08-23 10:22:00</td>\n",
              "      <td>2016-09-16 12:00:00</td>\n",
              "      <td>NaN</td>\n",
              "      <td>2016-09-01 16:14:00</td>\n",
              "    </tr>\n",
              "    <tr>\n",
              "      <th>last</th>\n",
              "      <td>NaN</td>\n",
              "      <td>NaN</td>\n",
              "      <td>NaN</td>\n",
              "      <td>NaN</td>\n",
              "      <td>NaN</td>\n",
              "      <td>NaN</td>\n",
              "      <td>2022-12-30 14:32:00</td>\n",
              "      <td>2022-12-30 12:00:00</td>\n",
              "      <td>NaN</td>\n",
              "      <td>2022-12-31 09:50:00</td>\n",
              "    </tr>\n",
              "    <tr>\n",
              "      <th>mean</th>\n",
              "      <td>8.369551e+05</td>\n",
              "      <td>NaN</td>\n",
              "      <td>NaN</td>\n",
              "      <td>NaN</td>\n",
              "      <td>NaN</td>\n",
              "      <td>NaN</td>\n",
              "      <td>NaN</td>\n",
              "      <td>NaN</td>\n",
              "      <td>NaN</td>\n",
              "      <td>NaN</td>\n",
              "    </tr>\n",
              "    <tr>\n",
              "      <th>std</th>\n",
              "      <td>2.238160e+05</td>\n",
              "      <td>NaN</td>\n",
              "      <td>NaN</td>\n",
              "      <td>NaN</td>\n",
              "      <td>NaN</td>\n",
              "      <td>NaN</td>\n",
              "      <td>NaN</td>\n",
              "      <td>NaN</td>\n",
              "      <td>NaN</td>\n",
              "      <td>NaN</td>\n",
              "    </tr>\n",
              "    <tr>\n",
              "      <th>min</th>\n",
              "      <td>3.783170e+05</td>\n",
              "      <td>NaN</td>\n",
              "      <td>NaN</td>\n",
              "      <td>NaN</td>\n",
              "      <td>NaN</td>\n",
              "      <td>NaN</td>\n",
              "      <td>NaN</td>\n",
              "      <td>NaN</td>\n",
              "      <td>NaN</td>\n",
              "      <td>NaN</td>\n",
              "    </tr>\n",
              "    <tr>\n",
              "      <th>25%</th>\n",
              "      <td>6.351280e+05</td>\n",
              "      <td>NaN</td>\n",
              "      <td>NaN</td>\n",
              "      <td>NaN</td>\n",
              "      <td>NaN</td>\n",
              "      <td>NaN</td>\n",
              "      <td>NaN</td>\n",
              "      <td>NaN</td>\n",
              "      <td>NaN</td>\n",
              "      <td>NaN</td>\n",
              "    </tr>\n",
              "    <tr>\n",
              "      <th>50%</th>\n",
              "      <td>8.832230e+05</td>\n",
              "      <td>NaN</td>\n",
              "      <td>NaN</td>\n",
              "      <td>NaN</td>\n",
              "      <td>NaN</td>\n",
              "      <td>NaN</td>\n",
              "      <td>NaN</td>\n",
              "      <td>NaN</td>\n",
              "      <td>NaN</td>\n",
              "      <td>NaN</td>\n",
              "    </tr>\n",
              "    <tr>\n",
              "      <th>75%</th>\n",
              "      <td>1.028164e+06</td>\n",
              "      <td>NaN</td>\n",
              "      <td>NaN</td>\n",
              "      <td>NaN</td>\n",
              "      <td>NaN</td>\n",
              "      <td>NaN</td>\n",
              "      <td>NaN</td>\n",
              "      <td>NaN</td>\n",
              "      <td>NaN</td>\n",
              "      <td>NaN</td>\n",
              "    </tr>\n",
              "    <tr>\n",
              "      <th>max</th>\n",
              "      <td>1.165252e+06</td>\n",
              "      <td>NaN</td>\n",
              "      <td>NaN</td>\n",
              "      <td>NaN</td>\n",
              "      <td>NaN</td>\n",
              "      <td>NaN</td>\n",
              "      <td>NaN</td>\n",
              "      <td>NaN</td>\n",
              "      <td>NaN</td>\n",
              "      <td>NaN</td>\n",
              "    </tr>\n",
              "  </tbody>\n",
              "</table>\n",
              "</div>\n",
              "      <button class=\"colab-df-convert\" onclick=\"convertToInteractive('df-03ae2fc1-3efb-41f6-ba0e-ca38dffee0d3')\"\n",
              "              title=\"Convert this dataframe to an interactive table.\"\n",
              "              style=\"display:none;\">\n",
              "        \n",
              "  <svg xmlns=\"http://www.w3.org/2000/svg\" height=\"24px\"viewBox=\"0 0 24 24\"\n",
              "       width=\"24px\">\n",
              "    <path d=\"M0 0h24v24H0V0z\" fill=\"none\"/>\n",
              "    <path d=\"M18.56 5.44l.94 2.06.94-2.06 2.06-.94-2.06-.94-.94-2.06-.94 2.06-2.06.94zm-11 1L8.5 8.5l.94-2.06 2.06-.94-2.06-.94L8.5 2.5l-.94 2.06-2.06.94zm10 10l.94 2.06.94-2.06 2.06-.94-2.06-.94-.94-2.06-.94 2.06-2.06.94z\"/><path d=\"M17.41 7.96l-1.37-1.37c-.4-.4-.92-.59-1.43-.59-.52 0-1.04.2-1.43.59L10.3 9.45l-7.72 7.72c-.78.78-.78 2.05 0 2.83L4 21.41c.39.39.9.59 1.41.59.51 0 1.02-.2 1.41-.59l7.78-7.78 2.81-2.81c.8-.78.8-2.07 0-2.86zM5.41 20L4 18.59l7.72-7.72 1.47 1.35L5.41 20z\"/>\n",
              "  </svg>\n",
              "      </button>\n",
              "      \n",
              "  <style>\n",
              "    .colab-df-container {\n",
              "      display:flex;\n",
              "      flex-wrap:wrap;\n",
              "      gap: 12px;\n",
              "    }\n",
              "\n",
              "    .colab-df-convert {\n",
              "      background-color: #E8F0FE;\n",
              "      border: none;\n",
              "      border-radius: 50%;\n",
              "      cursor: pointer;\n",
              "      display: none;\n",
              "      fill: #1967D2;\n",
              "      height: 32px;\n",
              "      padding: 0 0 0 0;\n",
              "      width: 32px;\n",
              "    }\n",
              "\n",
              "    .colab-df-convert:hover {\n",
              "      background-color: #E2EBFA;\n",
              "      box-shadow: 0px 1px 2px rgba(60, 64, 67, 0.3), 0px 1px 3px 1px rgba(60, 64, 67, 0.15);\n",
              "      fill: #174EA6;\n",
              "    }\n",
              "\n",
              "    [theme=dark] .colab-df-convert {\n",
              "      background-color: #3B4455;\n",
              "      fill: #D2E3FC;\n",
              "    }\n",
              "\n",
              "    [theme=dark] .colab-df-convert:hover {\n",
              "      background-color: #434B5C;\n",
              "      box-shadow: 0px 1px 3px 1px rgba(0, 0, 0, 0.15);\n",
              "      filter: drop-shadow(0px 1px 2px rgba(0, 0, 0, 0.3));\n",
              "      fill: #FFFFFF;\n",
              "    }\n",
              "  </style>\n",
              "\n",
              "      <script>\n",
              "        const buttonEl =\n",
              "          document.querySelector('#df-03ae2fc1-3efb-41f6-ba0e-ca38dffee0d3 button.colab-df-convert');\n",
              "        buttonEl.style.display =\n",
              "          google.colab.kernel.accessAllowed ? 'block' : 'none';\n",
              "\n",
              "        async function convertToInteractive(key) {\n",
              "          const element = document.querySelector('#df-03ae2fc1-3efb-41f6-ba0e-ca38dffee0d3');\n",
              "          const dataTable =\n",
              "            await google.colab.kernel.invokeFunction('convertToInteractive',\n",
              "                                                     [key], {});\n",
              "          if (!dataTable) return;\n",
              "\n",
              "          const docLinkHtml = 'Like what you see? Visit the ' +\n",
              "            '<a target=\"_blank\" href=https://colab.research.google.com/notebooks/data_table.ipynb>data table notebook</a>'\n",
              "            + ' to learn more about interactive tables.';\n",
              "          element.innerHTML = '';\n",
              "          dataTable['output_type'] = 'display_data';\n",
              "          await google.colab.output.renderOutput(dataTable, element);\n",
              "          const docLink = document.createElement('div');\n",
              "          docLink.innerHTML = docLinkHtml;\n",
              "          element.appendChild(docLink);\n",
              "        }\n",
              "      </script>\n",
              "    </div>\n",
              "  </div>\n",
              "  "
            ]
          },
          "metadata": {},
          "execution_count": 6
        }
      ]
    },
    {
      "cell_type": "markdown",
      "source": [
        "\n",
        "Por defecto solo muestra las que contienen numeros, para que muestre todo hace falta incluir el (include = 'all')\n",
        "\n",
        "\n",
        "Este método te proporciona un resumen estadístico de las columnas numéricas de un DataFrame, incluyendo la media, la desviación estándar, la mediana, los cuartiles, el mínimo y el máximo.\n"
      ],
      "metadata": {
        "id": "DYBkDxURNydy"
      }
    },
    {
      "cell_type": "code",
      "source": [
        "print(df.columns) #Muestra los nombres de las columnas en un DataFrame."
      ],
      "metadata": {
        "colab": {
          "base_uri": "https://localhost:8080/"
        },
        "id": "H4hDC5rlOWm7",
        "outputId": "fbe13049-f310-4500-c4ff-1d74ce6eac2c"
      },
      "execution_count": 7,
      "outputs": [
        {
          "output_type": "stream",
          "name": "stdout",
          "text": [
            "Index(['ID', 'Tipo', 'Categoría', 'Categoría.1', 'Categoría.2',\n",
            "       'Categoria_Final', 'Fecha_de_creacion', 'Categoria_Final',\n",
            "       'Subcategoría', 'Fecha_de_modificacion'],\n",
            "      dtype='object')\n"
          ]
        }
      ]
    },
    {
      "cell_type": "code",
      "source": [
        "print(df[\"ID\"].value_counts())\n"
      ],
      "metadata": {
        "colab": {
          "base_uri": "https://localhost:8080/"
        },
        "id": "oI7LioBMOne2",
        "outputId": "fc907248-468b-41cf-b9e6-0db9feab4111"
      },
      "execution_count": 7,
      "outputs": [
        {
          "output_type": "stream",
          "name": "stdout",
          "text": [
            "1165252    1\n",
            "727747     1\n",
            "728614     1\n",
            "728573     1\n",
            "728572     1\n",
            "          ..\n",
            "984860     1\n",
            "984859     1\n",
            "984853     1\n",
            "984849     1\n",
            "378317     1\n",
            "Name: ID, Length: 16041, dtype: int64\n"
          ]
        }
      ]
    },
    {
      "cell_type": "code",
      "source": [
        "\n",
        "#Creo que esto no hace falta ya que lo reconoce como objeto de data\n",
        "\n",
        "df['Fecha de creación'] = pd.to_datetime(df['Fecha de creación'], format='%d/%m/%Y %H:%M')\n",
        "df['Fecha solución propuesta'] = pd.to_datetime(df['Fecha solución propuesta'], format='%d/%m/%Y %H:%M')\n",
        "df['Fecha de modificación'] = pd.to_datetime(df['Fecha de modificación'], format='%d/%m/%Y %H:%M')\n",
        "#Cambiamos el formato del df de las fechas de un formato que no lo reconoce jupyter notebook a un formato \n",
        "# que si reconoce y entonces podemos pasar ya a un mejor analisis\n"
      ],
      "metadata": {
        "id": "qmnOZfEQQFCq"
      },
      "execution_count": 6,
      "outputs": []
    },
    {
      "cell_type": "code",
      "source": [
        "df.describe #ahora si que reconoce la fecha de creacion/resolucion con formato de fecha"
      ],
      "metadata": {
        "colab": {
          "base_uri": "https://localhost:8080/"
        },
        "id": "QQJGhIasQ5iP",
        "outputId": "18a1895c-4fc6-4621-9076-ea2fce3e740d"
      },
      "execution_count": 8,
      "outputs": [
        {
          "output_type": "execute_result",
          "data": {
            "text/plain": [
              "<bound method NDFrame.describe of             ID               Tipo            Categoría        Categoría.1  \\\n",
              "0      1165252       Extracciones  Extracción de datos                NaN   \n",
              "1      1165248       Extracciones  Extracción de datos                NaN   \n",
              "2      1165245     Gestión de KDE                  NaN                NaN   \n",
              "3      1165034       Herramientas                  NaN  Uso de QLIK SENSE   \n",
              "4      1164938       Herramientas                  NaN  Uso de QLIK SENSE   \n",
              "...        ...                ...                  ...                ...   \n",
              "16036   380375  Permisos Datapool                  NaN                NaN   \n",
              "16037   380373    Modelo de Datos                  NaN                NaN   \n",
              "16038   378538  Permisos Datapool                  NaN                NaN   \n",
              "16039   378533    Modelo de Datos                  NaN                NaN   \n",
              "16040   378317    Modelo de Datos                  NaN                NaN   \n",
              "\n",
              "                             Categoría.2                    Categoria_Final  \\\n",
              "0                                    NaN                Extracción de datos   \n",
              "1                                    NaN                Extracción de datos   \n",
              "2                                    NaN                     Gestión de KDE   \n",
              "3                                    NaN                  Uso de QLIK SENSE   \n",
              "4                                    NaN                  Uso de QLIK SENSE   \n",
              "...                                  ...                                ...   \n",
              "16036                                NaN                  Permisos Datapool   \n",
              "16037  Consulta sobre el modelo de datos  Consulta sobre el modelo de datos   \n",
              "16038                                NaN                  Permisos Datapool   \n",
              "16039  Consulta sobre el modelo de datos  Consulta sobre el modelo de datos   \n",
              "16040  Consulta sobre el modelo de datos  Consulta sobre el modelo de datos   \n",
              "\n",
              "        Fecha_de_creacion Categoria_Final    Subcategoría  \\\n",
              "0     2022-12-30 14:32:00             NaT             NaN   \n",
              "1     2022-12-30 14:23:00             NaT             NaN   \n",
              "2     2022-12-30 14:11:00             NaT             NaN   \n",
              "3     2022-12-30 01:09:00             NaT         Accesos   \n",
              "4     2022-12-29 17:17:00             NaT  Recarga Stream   \n",
              "...                   ...             ...             ...   \n",
              "16036 2016-09-01 15:01:00             NaT             NaN   \n",
              "16037 2016-09-01 15:00:00             NaT             NaN   \n",
              "16038 2016-08-24 09:31:00             NaT             NaN   \n",
              "16039 2016-08-24 09:16:00             NaT             NaN   \n",
              "16040 2016-08-23 10:22:00             NaT             NaN   \n",
              "\n",
              "      Fecha_de_modificacion  \n",
              "0       2022-12-30 15:19:00  \n",
              "1       2022-12-30 15:18:00  \n",
              "2       2022-12-30 15:56:00  \n",
              "3       2022-12-30 10:25:00  \n",
              "4       2022-12-29 17:44:00  \n",
              "...                     ...  \n",
              "16036   2016-09-01 16:31:00  \n",
              "16037   2016-11-09 10:39:00  \n",
              "16038   2016-09-14 13:44:00  \n",
              "16039   2016-09-14 12:53:00  \n",
              "16040   2016-09-14 13:44:00  \n",
              "\n",
              "[16041 rows x 10 columns]>"
            ]
          },
          "metadata": {},
          "execution_count": 8
        }
      ]
    },
    {
      "cell_type": "code",
      "source": [
        "df = df.drop(columns=['Categoría','Categoría.1','Categoría.2','Subcategoría'], axis=0) #axis = 1 --> se borra una columna\n",
        "                                              #axis = 0 --> se borra una fila "
      ],
      "metadata": {
        "id": "wUNrRrqVS3gg"
      },
      "execution_count": 10,
      "outputs": []
    },
    {
      "cell_type": "code",
      "source": [
        "df.describe(include = 'all')"
      ],
      "metadata": {
        "colab": {
          "base_uri": "https://localhost:8080/",
          "height": 512
        },
        "id": "IR4jD7nY2vt7",
        "outputId": "c3812e90-1cdf-4bac-c198-1c0d72ec4fd2"
      },
      "execution_count": 12,
      "outputs": [
        {
          "output_type": "stream",
          "name": "stderr",
          "text": [
            "<ipython-input-12-74aa2f970831>:1: FutureWarning: Treating datetime data as categorical rather than numeric in `.describe` is deprecated and will be removed in a future version of pandas. Specify `datetime_is_numeric=True` to silence this warning and adopt the future behavior now.\n",
            "  df.describe(include = 'all')\n"
          ]
        },
        {
          "output_type": "execute_result",
          "data": {
            "text/plain": [
              "                  ID          Tipo    Categoria_Final    Fecha_de_creacion  \\\n",
              "count   1.604100e+04         16041              16041                16041   \n",
              "unique           NaN             7                 15                15867   \n",
              "top              NaN  Herramientas  Uso de QLIK SENSE  2016-12-27 10:34:00   \n",
              "freq             NaN          7555               3950                    3   \n",
              "first            NaN           NaN                NaN  2016-08-23 10:22:00   \n",
              "last             NaN           NaN                NaN  2022-12-30 14:32:00   \n",
              "mean    8.369551e+05           NaN                NaN                  NaN   \n",
              "std     2.238160e+05           NaN                NaN                  NaN   \n",
              "min     3.783170e+05           NaN                NaN                  NaN   \n",
              "25%     6.351280e+05           NaN                NaN                  NaN   \n",
              "50%     8.832230e+05           NaN                NaN                  NaN   \n",
              "75%     1.028164e+06           NaN                NaN                  NaN   \n",
              "max     1.165252e+06           NaN                NaN                  NaN   \n",
              "\n",
              "            Categoria_Final Fecha_de_modificacion  \n",
              "count                 14606                 16041  \n",
              "unique                 1691                 13529  \n",
              "top     2021-08-01 12:00:00   2022-11-16 11:30:00  \n",
              "freq                    166                    12  \n",
              "first   2016-09-16 12:00:00   2016-09-01 16:14:00  \n",
              "last    2022-12-30 12:00:00   2022-12-31 09:50:00  \n",
              "mean                    NaN                   NaN  \n",
              "std                     NaN                   NaN  \n",
              "min                     NaN                   NaN  \n",
              "25%                     NaN                   NaN  \n",
              "50%                     NaN                   NaN  \n",
              "75%                     NaN                   NaN  \n",
              "max                     NaN                   NaN  "
            ],
            "text/html": [
              "\n",
              "  <div id=\"df-3c3540a2-1462-49ef-83a3-447fcf45a169\">\n",
              "    <div class=\"colab-df-container\">\n",
              "      <div>\n",
              "<style scoped>\n",
              "    .dataframe tbody tr th:only-of-type {\n",
              "        vertical-align: middle;\n",
              "    }\n",
              "\n",
              "    .dataframe tbody tr th {\n",
              "        vertical-align: top;\n",
              "    }\n",
              "\n",
              "    .dataframe thead th {\n",
              "        text-align: right;\n",
              "    }\n",
              "</style>\n",
              "<table border=\"1\" class=\"dataframe\">\n",
              "  <thead>\n",
              "    <tr style=\"text-align: right;\">\n",
              "      <th></th>\n",
              "      <th>ID</th>\n",
              "      <th>Tipo</th>\n",
              "      <th>Categoria_Final</th>\n",
              "      <th>Fecha_de_creacion</th>\n",
              "      <th>Categoria_Final</th>\n",
              "      <th>Fecha_de_modificacion</th>\n",
              "    </tr>\n",
              "  </thead>\n",
              "  <tbody>\n",
              "    <tr>\n",
              "      <th>count</th>\n",
              "      <td>1.604100e+04</td>\n",
              "      <td>16041</td>\n",
              "      <td>16041</td>\n",
              "      <td>16041</td>\n",
              "      <td>14606</td>\n",
              "      <td>16041</td>\n",
              "    </tr>\n",
              "    <tr>\n",
              "      <th>unique</th>\n",
              "      <td>NaN</td>\n",
              "      <td>7</td>\n",
              "      <td>15</td>\n",
              "      <td>15867</td>\n",
              "      <td>1691</td>\n",
              "      <td>13529</td>\n",
              "    </tr>\n",
              "    <tr>\n",
              "      <th>top</th>\n",
              "      <td>NaN</td>\n",
              "      <td>Herramientas</td>\n",
              "      <td>Uso de QLIK SENSE</td>\n",
              "      <td>2016-12-27 10:34:00</td>\n",
              "      <td>2021-08-01 12:00:00</td>\n",
              "      <td>2022-11-16 11:30:00</td>\n",
              "    </tr>\n",
              "    <tr>\n",
              "      <th>freq</th>\n",
              "      <td>NaN</td>\n",
              "      <td>7555</td>\n",
              "      <td>3950</td>\n",
              "      <td>3</td>\n",
              "      <td>166</td>\n",
              "      <td>12</td>\n",
              "    </tr>\n",
              "    <tr>\n",
              "      <th>first</th>\n",
              "      <td>NaN</td>\n",
              "      <td>NaN</td>\n",
              "      <td>NaN</td>\n",
              "      <td>2016-08-23 10:22:00</td>\n",
              "      <td>2016-09-16 12:00:00</td>\n",
              "      <td>2016-09-01 16:14:00</td>\n",
              "    </tr>\n",
              "    <tr>\n",
              "      <th>last</th>\n",
              "      <td>NaN</td>\n",
              "      <td>NaN</td>\n",
              "      <td>NaN</td>\n",
              "      <td>2022-12-30 14:32:00</td>\n",
              "      <td>2022-12-30 12:00:00</td>\n",
              "      <td>2022-12-31 09:50:00</td>\n",
              "    </tr>\n",
              "    <tr>\n",
              "      <th>mean</th>\n",
              "      <td>8.369551e+05</td>\n",
              "      <td>NaN</td>\n",
              "      <td>NaN</td>\n",
              "      <td>NaN</td>\n",
              "      <td>NaN</td>\n",
              "      <td>NaN</td>\n",
              "    </tr>\n",
              "    <tr>\n",
              "      <th>std</th>\n",
              "      <td>2.238160e+05</td>\n",
              "      <td>NaN</td>\n",
              "      <td>NaN</td>\n",
              "      <td>NaN</td>\n",
              "      <td>NaN</td>\n",
              "      <td>NaN</td>\n",
              "    </tr>\n",
              "    <tr>\n",
              "      <th>min</th>\n",
              "      <td>3.783170e+05</td>\n",
              "      <td>NaN</td>\n",
              "      <td>NaN</td>\n",
              "      <td>NaN</td>\n",
              "      <td>NaN</td>\n",
              "      <td>NaN</td>\n",
              "    </tr>\n",
              "    <tr>\n",
              "      <th>25%</th>\n",
              "      <td>6.351280e+05</td>\n",
              "      <td>NaN</td>\n",
              "      <td>NaN</td>\n",
              "      <td>NaN</td>\n",
              "      <td>NaN</td>\n",
              "      <td>NaN</td>\n",
              "    </tr>\n",
              "    <tr>\n",
              "      <th>50%</th>\n",
              "      <td>8.832230e+05</td>\n",
              "      <td>NaN</td>\n",
              "      <td>NaN</td>\n",
              "      <td>NaN</td>\n",
              "      <td>NaN</td>\n",
              "      <td>NaN</td>\n",
              "    </tr>\n",
              "    <tr>\n",
              "      <th>75%</th>\n",
              "      <td>1.028164e+06</td>\n",
              "      <td>NaN</td>\n",
              "      <td>NaN</td>\n",
              "      <td>NaN</td>\n",
              "      <td>NaN</td>\n",
              "      <td>NaN</td>\n",
              "    </tr>\n",
              "    <tr>\n",
              "      <th>max</th>\n",
              "      <td>1.165252e+06</td>\n",
              "      <td>NaN</td>\n",
              "      <td>NaN</td>\n",
              "      <td>NaN</td>\n",
              "      <td>NaN</td>\n",
              "      <td>NaN</td>\n",
              "    </tr>\n",
              "  </tbody>\n",
              "</table>\n",
              "</div>\n",
              "      <button class=\"colab-df-convert\" onclick=\"convertToInteractive('df-3c3540a2-1462-49ef-83a3-447fcf45a169')\"\n",
              "              title=\"Convert this dataframe to an interactive table.\"\n",
              "              style=\"display:none;\">\n",
              "        \n",
              "  <svg xmlns=\"http://www.w3.org/2000/svg\" height=\"24px\"viewBox=\"0 0 24 24\"\n",
              "       width=\"24px\">\n",
              "    <path d=\"M0 0h24v24H0V0z\" fill=\"none\"/>\n",
              "    <path d=\"M18.56 5.44l.94 2.06.94-2.06 2.06-.94-2.06-.94-.94-2.06-.94 2.06-2.06.94zm-11 1L8.5 8.5l.94-2.06 2.06-.94-2.06-.94L8.5 2.5l-.94 2.06-2.06.94zm10 10l.94 2.06.94-2.06 2.06-.94-2.06-.94-.94-2.06-.94 2.06-2.06.94z\"/><path d=\"M17.41 7.96l-1.37-1.37c-.4-.4-.92-.59-1.43-.59-.52 0-1.04.2-1.43.59L10.3 9.45l-7.72 7.72c-.78.78-.78 2.05 0 2.83L4 21.41c.39.39.9.59 1.41.59.51 0 1.02-.2 1.41-.59l7.78-7.78 2.81-2.81c.8-.78.8-2.07 0-2.86zM5.41 20L4 18.59l7.72-7.72 1.47 1.35L5.41 20z\"/>\n",
              "  </svg>\n",
              "      </button>\n",
              "      \n",
              "  <style>\n",
              "    .colab-df-container {\n",
              "      display:flex;\n",
              "      flex-wrap:wrap;\n",
              "      gap: 12px;\n",
              "    }\n",
              "\n",
              "    .colab-df-convert {\n",
              "      background-color: #E8F0FE;\n",
              "      border: none;\n",
              "      border-radius: 50%;\n",
              "      cursor: pointer;\n",
              "      display: none;\n",
              "      fill: #1967D2;\n",
              "      height: 32px;\n",
              "      padding: 0 0 0 0;\n",
              "      width: 32px;\n",
              "    }\n",
              "\n",
              "    .colab-df-convert:hover {\n",
              "      background-color: #E2EBFA;\n",
              "      box-shadow: 0px 1px 2px rgba(60, 64, 67, 0.3), 0px 1px 3px 1px rgba(60, 64, 67, 0.15);\n",
              "      fill: #174EA6;\n",
              "    }\n",
              "\n",
              "    [theme=dark] .colab-df-convert {\n",
              "      background-color: #3B4455;\n",
              "      fill: #D2E3FC;\n",
              "    }\n",
              "\n",
              "    [theme=dark] .colab-df-convert:hover {\n",
              "      background-color: #434B5C;\n",
              "      box-shadow: 0px 1px 3px 1px rgba(0, 0, 0, 0.15);\n",
              "      filter: drop-shadow(0px 1px 2px rgba(0, 0, 0, 0.3));\n",
              "      fill: #FFFFFF;\n",
              "    }\n",
              "  </style>\n",
              "\n",
              "      <script>\n",
              "        const buttonEl =\n",
              "          document.querySelector('#df-3c3540a2-1462-49ef-83a3-447fcf45a169 button.colab-df-convert');\n",
              "        buttonEl.style.display =\n",
              "          google.colab.kernel.accessAllowed ? 'block' : 'none';\n",
              "\n",
              "        async function convertToInteractive(key) {\n",
              "          const element = document.querySelector('#df-3c3540a2-1462-49ef-83a3-447fcf45a169');\n",
              "          const dataTable =\n",
              "            await google.colab.kernel.invokeFunction('convertToInteractive',\n",
              "                                                     [key], {});\n",
              "          if (!dataTable) return;\n",
              "\n",
              "          const docLinkHtml = 'Like what you see? Visit the ' +\n",
              "            '<a target=\"_blank\" href=https://colab.research.google.com/notebooks/data_table.ipynb>data table notebook</a>'\n",
              "            + ' to learn more about interactive tables.';\n",
              "          element.innerHTML = '';\n",
              "          dataTable['output_type'] = 'display_data';\n",
              "          await google.colab.output.renderOutput(dataTable, element);\n",
              "          const docLink = document.createElement('div');\n",
              "          docLink.innerHTML = docLinkHtml;\n",
              "          element.appendChild(docLink);\n",
              "        }\n",
              "      </script>\n",
              "    </div>\n",
              "  </div>\n",
              "  "
            ]
          },
          "metadata": {},
          "execution_count": 12
        }
      ]
    },
    {
      "cell_type": "code",
      "source": [
        "df['date']= pd.to_datetime(df.Fecha_de_modificacion)"
      ],
      "metadata": {
        "colab": {
          "base_uri": "https://localhost:8080/"
        },
        "id": "jDUxhscMrrkl",
        "outputId": "6eeb4b32-afc2-45db-d100-59d295a34be6"
      },
      "execution_count": 14,
      "outputs": [
        {
          "output_type": "stream",
          "name": "stderr",
          "text": [
            "<ipython-input-14-889268fab435>:1: SettingWithCopyWarning: \n",
            "A value is trying to be set on a copy of a slice from a DataFrame.\n",
            "Try using .loc[row_indexer,col_indexer] = value instead\n",
            "\n",
            "See the caveats in the documentation: https://pandas.pydata.org/pandas-docs/stable/user_guide/indexing.html#returning-a-view-versus-a-copy\n",
            "  df['date']= pd.to_datetime(df.Fecha_de_modificacion)\n"
          ]
        }
      ]
    },
    {
      "cell_type": "code",
      "source": [
        "df['Year'] = pd.DatetimeIndex(df.date).year\n",
        "df['Month'] = pd.DatetimeIndex(df.date).month\n",
        "df['Day'] = pd.DatetimeIndex(df.date).day\n",
        "df['weekday'] = pd.DatetimeIndex(df.date).weekday"
      ],
      "metadata": {
        "colab": {
          "base_uri": "https://localhost:8080/"
        },
        "id": "8zGyHq1zviec",
        "outputId": "07810f04-0e0a-4821-cfea-282e79308538"
      },
      "execution_count": 15,
      "outputs": [
        {
          "output_type": "stream",
          "name": "stderr",
          "text": [
            "<ipython-input-15-7edfa3a94edf>:1: SettingWithCopyWarning: \n",
            "A value is trying to be set on a copy of a slice from a DataFrame.\n",
            "Try using .loc[row_indexer,col_indexer] = value instead\n",
            "\n",
            "See the caveats in the documentation: https://pandas.pydata.org/pandas-docs/stable/user_guide/indexing.html#returning-a-view-versus-a-copy\n",
            "  df['Year'] = pd.DatetimeIndex(df.date).year\n",
            "<ipython-input-15-7edfa3a94edf>:2: SettingWithCopyWarning: \n",
            "A value is trying to be set on a copy of a slice from a DataFrame.\n",
            "Try using .loc[row_indexer,col_indexer] = value instead\n",
            "\n",
            "See the caveats in the documentation: https://pandas.pydata.org/pandas-docs/stable/user_guide/indexing.html#returning-a-view-versus-a-copy\n",
            "  df['Month'] = pd.DatetimeIndex(df.date).month\n"
          ]
        }
      ]
    },
    {
      "cell_type": "code",
      "source": [
        "df.describe"
      ],
      "metadata": {
        "colab": {
          "base_uri": "https://localhost:8080/"
        },
        "id": "uAgqRam1v27r",
        "outputId": "b8099bb4-447a-4d95-f7b7-72fab1f8f78e"
      },
      "execution_count": 16,
      "outputs": [
        {
          "output_type": "execute_result",
          "data": {
            "text/plain": [
              "<bound method NDFrame.describe of             ID               Tipo                    Categoria_Final  \\\n",
              "0      1165252       Extracciones                Extracción de datos   \n",
              "1      1165248       Extracciones                Extracción de datos   \n",
              "2      1165245     Gestión de KDE                     Gestión de KDE   \n",
              "3      1165034       Herramientas                  Uso de QLIK SENSE   \n",
              "4      1164938       Herramientas                  Uso de QLIK SENSE   \n",
              "...        ...                ...                                ...   \n",
              "16036   380375  Permisos Datapool                  Permisos Datapool   \n",
              "16037   380373    Modelo de Datos  Consulta sobre el modelo de datos   \n",
              "16038   378538  Permisos Datapool                  Permisos Datapool   \n",
              "16039   378533    Modelo de Datos  Consulta sobre el modelo de datos   \n",
              "16040   378317    Modelo de Datos  Consulta sobre el modelo de datos   \n",
              "\n",
              "        Fecha_de_creacion Categoria_Final Fecha_de_modificacion  \\\n",
              "0     2022-12-30 14:32:00             NaT   2022-12-30 15:19:00   \n",
              "1     2022-12-30 14:23:00             NaT   2022-12-30 15:18:00   \n",
              "2     2022-12-30 14:11:00             NaT   2022-12-30 15:56:00   \n",
              "3     2022-12-30 01:09:00             NaT   2022-12-30 10:25:00   \n",
              "4     2022-12-29 17:17:00             NaT   2022-12-29 17:44:00   \n",
              "...                   ...             ...                   ...   \n",
              "16036 2016-09-01 15:01:00             NaT   2016-09-01 16:31:00   \n",
              "16037 2016-09-01 15:00:00             NaT   2016-11-09 10:39:00   \n",
              "16038 2016-08-24 09:31:00             NaT   2016-09-14 13:44:00   \n",
              "16039 2016-08-24 09:16:00             NaT   2016-09-14 12:53:00   \n",
              "16040 2016-08-23 10:22:00             NaT   2016-09-14 13:44:00   \n",
              "\n",
              "                     date  Year  Month  Day  weekday  \n",
              "0     2022-12-30 15:19:00  2022     12   30        4  \n",
              "1     2022-12-30 15:18:00  2022     12   30        4  \n",
              "2     2022-12-30 15:56:00  2022     12   30        4  \n",
              "3     2022-12-30 10:25:00  2022     12   30        4  \n",
              "4     2022-12-29 17:44:00  2022     12   29        3  \n",
              "...                   ...   ...    ...  ...      ...  \n",
              "16036 2016-09-01 16:31:00  2016      9    1        3  \n",
              "16037 2016-11-09 10:39:00  2016     11    9        2  \n",
              "16038 2016-09-14 13:44:00  2016      9   14        2  \n",
              "16039 2016-09-14 12:53:00  2016      9   14        2  \n",
              "16040 2016-09-14 13:44:00  2016      9   14        2  \n",
              "\n",
              "[16041 rows x 11 columns]>"
            ]
          },
          "metadata": {},
          "execution_count": 16
        }
      ]
    },
    {
      "cell_type": "code",
      "source": [
        "df.Fecha_de_modificacion.plot(x='Fecha_de_modificacion',y='Month')"
      ],
      "metadata": {
        "colab": {
          "base_uri": "https://localhost:8080/",
          "height": 283
        },
        "id": "niikCW4Flzlp",
        "outputId": "48339e97-947f-4d36-8036-6a75faf6e9bf"
      },
      "execution_count": 17,
      "outputs": [
        {
          "output_type": "execute_result",
          "data": {
            "text/plain": [
              "<matplotlib.axes._subplots.AxesSubplot at 0x7fc6a3961280>"
            ]
          },
          "metadata": {},
          "execution_count": 17
        },
        {
          "output_type": "display_data",
          "data": {
            "text/plain": [
              "<Figure size 432x288 with 1 Axes>"
            ],
            "image/png": "[encoded data removed]"
          },
          "metadata": {
            "needs_background": "light"
          }
        }
      ]
    },
    {
      "cell_type": "code",
      "source": [
        "df.monthly_counts.plot()\n"
      ],
      "metadata": {
        "colab": {
          "base_uri": "https://localhost:8080/",
          "height": 295
        },
        "id": "wJFfaHTPrpxQ",
        "outputId": "d0215427-909b-413e-c709-4beb6d8d5b1c"
      },
      "execution_count": 24,
      "outputs": [
        {
          "output_type": "error",
          "ename": "AttributeError",
          "evalue": "ignored",
          "traceback": [
            "\u001b[0;31m---------------------------------------------------------------------------\u001b[0m",
            "\u001b[0;31mAttributeError\u001b[0m                            Traceback (most recent call last)",
            "\u001b[0;32m<ipython-input-24-7c9d8c0129e3>\u001b[0m in \u001b[0;36m<module>\u001b[0;34m\u001b[0m\n\u001b[0;32m----> 1\u001b[0;31m \u001b[0mdf\u001b[0m\u001b[0;34m.\u001b[0m\u001b[0mmonthly_counts\u001b[0m\u001b[0;34m.\u001b[0m\u001b[0mplot\u001b[0m\u001b[0;34m(\u001b[0m\u001b[0;34m)\u001b[0m\u001b[0;34m\u001b[0m\u001b[0;34m\u001b[0m\u001b[0m\n\u001b[0m",
            "\u001b[0;32m/usr/local/lib/python3.8/dist-packages/pandas/core/generic.py\u001b[0m in \u001b[0;36m__getattr__\u001b[0;34m(self, name)\u001b[0m\n\u001b[1;32m   5485\u001b[0m         ):\n\u001b[1;32m   5486\u001b[0m             \u001b[0;32mreturn\u001b[0m \u001b[0mself\u001b[0m\u001b[0;34m[\u001b[0m\u001b[0mname\u001b[0m\u001b[0;34m]\u001b[0m\u001b[0;34m\u001b[0m\u001b[0;34m\u001b[0m\u001b[0m\n\u001b[0;32m-> 5487\u001b[0;31m         \u001b[0;32mreturn\u001b[0m \u001b[0mobject\u001b[0m\u001b[0;34m.\u001b[0m\u001b[0m__getattribute__\u001b[0m\u001b[0;34m(\u001b[0m\u001b[0mself\u001b[0m\u001b[0;34m,\u001b[0m \u001b[0mname\u001b[0m\u001b[0;34m)\u001b[0m\u001b[0;34m\u001b[0m\u001b[0;34m\u001b[0m\u001b[0m\n\u001b[0m\u001b[1;32m   5488\u001b[0m \u001b[0;34m\u001b[0m\u001b[0m\n\u001b[1;32m   5489\u001b[0m     \u001b[0;32mdef\u001b[0m \u001b[0m__setattr__\u001b[0m\u001b[0;34m(\u001b[0m\u001b[0mself\u001b[0m\u001b[0;34m,\u001b[0m \u001b[0mname\u001b[0m\u001b[0;34m:\u001b[0m \u001b[0mstr\u001b[0m\u001b[0;34m,\u001b[0m \u001b[0mvalue\u001b[0m\u001b[0;34m)\u001b[0m \u001b[0;34m->\u001b[0m \u001b[0;32mNone\u001b[0m\u001b[0;34m:\u001b[0m\u001b[0;34m\u001b[0m\u001b[0;34m\u001b[0m\u001b[0m\n",
            "\u001b[0;31mAttributeError\u001b[0m: 'DataFrame' object has no attribute 'monthly_counts'"
          ]
        }
      ]
    },
    {
      "cell_type": "code",
      "source": [
        "df.set_index('date',inplace=True)\n"
      ],
      "metadata": {
        "id": "D98LEwOewKUm"
      },
      "execution_count": 18,
      "outputs": []
    },
    {
      "cell_type": "code",
      "source": [
        "\n",
        "monthly_counts = df.groupby('month').size().reset_index(name='count')"
      ],
      "metadata": {
        "id": "uwj0cq1Yz19j"
      },
      "execution_count": 21,
      "outputs": []
    },
    {
      "cell_type": "code",
      "source": [
        "yearly_counts = df.groupby('Year').size().reset_index(name='count')"
      ],
      "metadata": {
        "id": "sqLSHppN6TU3"
      },
      "execution_count": 26,
      "outputs": []
    },
    {
      "cell_type": "code",
      "source": [
        "yearly_counts.plot(x='Year', y='count',)\n",
        "\n",
        "plt.xlabel('Fecha_de_modficacion')\n",
        "plt.ylabel('Count')\n",
        "plt.title('Yearly Counts')\n",
        "\n",
        "plt.show()"
      ],
      "metadata": {
        "colab": {
          "base_uri": "https://localhost:8080/",
          "height": 296
        },
        "id": "KxZQpVRD6BQq",
        "outputId": "81abfe90-589d-4eba-ab32-886899c08b73"
      },
      "execution_count": 31,
      "outputs": [
        {
          "output_type": "display_data",
          "data": {
            "text/plain": [
              "<Figure size 432x288 with 1 Axes>"
            ],
            "image/png": "[encoded data removed]"
          },
          "metadata": {
            "needs_background": "light"
          }
        }
      ]
    },
    {
      "cell_type": "code",
      "source": [
        "df.describe\n"
      ],
      "metadata": {
        "colab": {
          "base_uri": "https://localhost:8080/"
        },
        "id": "w_gz2PFQz5Qq",
        "outputId": "d0b0ae04-b82e-4f0e-9c47-0fda4a68cc9d"
      },
      "execution_count": 22,
      "outputs": [
        {
          "output_type": "execute_result",
          "data": {
            "text/plain": [
              "<bound method NDFrame.describe of                           ID               Tipo  \\\n",
              "date                                              \n",
              "2022-12-30 15:19:00  1165252       Extracciones   \n",
              "2022-12-30 15:18:00  1165248       Extracciones   \n",
              "2022-12-30 15:56:00  1165245     Gestión de KDE   \n",
              "2022-12-30 10:25:00  1165034       Herramientas   \n",
              "2022-12-29 17:44:00  1164938       Herramientas   \n",
              "...                      ...                ...   \n",
              "2016-09-01 16:31:00   380375  Permisos Datapool   \n",
              "2016-11-09 10:39:00   380373    Modelo de Datos   \n",
              "2016-09-14 13:44:00   378538  Permisos Datapool   \n",
              "2016-09-14 12:53:00   378533    Modelo de Datos   \n",
              "2016-09-14 13:44:00   378317    Modelo de Datos   \n",
              "\n",
              "                                       Categoria_Final   Fecha_de_creacion  \\\n",
              "date                                                                         \n",
              "2022-12-30 15:19:00                Extracción de datos 2022-12-30 14:32:00   \n",
              "2022-12-30 15:18:00                Extracción de datos 2022-12-30 14:23:00   \n",
              "2022-12-30 15:56:00                     Gestión de KDE 2022-12-30 14:11:00   \n",
              "2022-12-30 10:25:00                  Uso de QLIK SENSE 2022-12-30 01:09:00   \n",
              "2022-12-29 17:44:00                  Uso de QLIK SENSE 2022-12-29 17:17:00   \n",
              "...                                                ...                 ...   \n",
              "2016-09-01 16:31:00                  Permisos Datapool 2016-09-01 15:01:00   \n",
              "2016-11-09 10:39:00  Consulta sobre el modelo de datos 2016-09-01 15:00:00   \n",
              "2016-09-14 13:44:00                  Permisos Datapool 2016-08-24 09:31:00   \n",
              "2016-09-14 12:53:00  Consulta sobre el modelo de datos 2016-08-24 09:16:00   \n",
              "2016-09-14 13:44:00  Consulta sobre el modelo de datos 2016-08-23 10:22:00   \n",
              "\n",
              "                    Categoria_Final Fecha_de_modificacion  Year  Month  Day  \\\n",
              "date                                                                          \n",
              "2022-12-30 15:19:00             NaT   2022-12-30 15:19:00  2022     12   30   \n",
              "2022-12-30 15:18:00             NaT   2022-12-30 15:18:00  2022     12   30   \n",
              "2022-12-30 15:56:00             NaT   2022-12-30 15:56:00  2022     12   30   \n",
              "2022-12-30 10:25:00             NaT   2022-12-30 10:25:00  2022     12   30   \n",
              "2022-12-29 17:44:00             NaT   2022-12-29 17:44:00  2022     12   29   \n",
              "...                             ...                   ...   ...    ...  ...   \n",
              "2016-09-01 16:31:00             NaT   2016-09-01 16:31:00  2016      9    1   \n",
              "2016-11-09 10:39:00             NaT   2016-11-09 10:39:00  2016     11    9   \n",
              "2016-09-14 13:44:00             NaT   2016-09-14 13:44:00  2016      9   14   \n",
              "2016-09-14 12:53:00             NaT   2016-09-14 12:53:00  2016      9   14   \n",
              "2016-09-14 13:44:00             NaT   2016-09-14 13:44:00  2016      9   14   \n",
              "\n",
              "                     weekday  month  \n",
              "date                                 \n",
              "2022-12-30 15:19:00        4     12  \n",
              "2022-12-30 15:18:00        4     12  \n",
              "2022-12-30 15:56:00        4     12  \n",
              "2022-12-30 10:25:00        4     12  \n",
              "2022-12-29 17:44:00        3     12  \n",
              "...                      ...    ...  \n",
              "2016-09-01 16:31:00        3      9  \n",
              "2016-11-09 10:39:00        2     11  \n",
              "2016-09-14 13:44:00        2      9  \n",
              "2016-09-14 12:53:00        2      9  \n",
              "2016-09-14 13:44:00        2      9  \n",
              "\n",
              "[16041 rows x 11 columns]>"
            ]
          },
          "metadata": {},
          "execution_count": 22
        }
      ]
    },
    {
      "cell_type": "code",
      "source": [],
      "metadata": {
        "id": "XrO77BVb4uJu"
      },
      "execution_count": null,
      "outputs": []
    }
  ]
}